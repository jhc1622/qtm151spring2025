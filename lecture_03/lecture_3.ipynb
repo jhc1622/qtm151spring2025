{
 "cells": [
  {
   "attachments": {},
   "cell_type": "markdown",
   "metadata": {},
   "source": [
    "# <span style=\"color:darkblue\"> Lecture 3: Mathematical Operations and Random Numbers </span>"
   ]
  },
  {
   "attachments": {},
   "cell_type": "markdown",
   "metadata": {},
   "source": [
    "<font size=\"5\"> \n",
    "\n",
    "In the previous class we:\n",
    "- Introduced lists and variable types\n",
    "- Talked about how to extract elements from a list"
   ]
  },
  {
   "attachments": {},
   "cell_type": "markdown",
   "metadata": {},
   "source": [
    "<font size=\"5\"> \n",
    "\n",
    "In this class we will:\n",
    "\n",
    "- Introduce a library for general mathematical operations\n",
    "- Generate random numbers\n",
    "- (Optional) Matrix operations"
   ]
  },
  {
   "attachments": {},
   "cell_type": "markdown",
   "metadata": {},
   "source": [
    "## <span style=\"color:darkblue\"> I. Import Libraries </span>"
   ]
  },
  {
   "cell_type": "code",
   "execution_count": 2,
   "metadata": {},
   "outputs": [],
   "source": [
    "# the \"numPy\" library is used for mathematical operations\n",
    "# the \"matplotlib\" library is for generating graphs\n",
    "\n",
    "import numpy as np\n",
    "import matplotlib.pyplot as plt\n"
   ]
  },
  {
   "attachments": {},
   "cell_type": "markdown",
   "metadata": {},
   "source": [
    "##  <span style=\"color:darkblue\"> II. Numbers and Functions </span>"
   ]
  },
  {
   "attachments": {},
   "cell_type": "markdown",
   "metadata": {},
   "source": [
    "<font size = \"5\" >\n",
    "Examples of numPy numbers"
   ]
  },
  {
   "cell_type": "code",
   "execution_count": 3,
   "metadata": {},
   "outputs": [
    {
     "data": {
      "text/plain": [
       "3.141592653589793"
      ]
     },
     "execution_count": 3,
     "metadata": {},
     "output_type": "execute_result"
    }
   ],
   "source": [
    "# Computes \"pi\" (3.14...)\n",
    "\n",
    "np.pi"
   ]
  },
  {
   "attachments": {},
   "cell_type": "markdown",
   "metadata": {},
   "source": [
    "<font size = \"5\" >\n",
    "\n",
    "Examples of numPy functions\n",
    "\n",
    "$ ln(x), e^x, sin(x), cos(x), \\sqrt{x}$"
   ]
  },
  {
   "cell_type": "code",
   "execution_count": 3,
   "metadata": {},
   "outputs": [
    {
     "name": "stdout",
     "output_type": "stream",
     "text": [
      "0.0\n",
      "2.718281828459045\n",
      "0.8414709848078965\n",
      "0.5403023058681398\n",
      "1.0\n",
      "6.6332495807108\n"
     ]
    }
   ],
   "source": [
    "# log(x) computes the logarithm with base \"e\" (Euler constant)\n",
    "# exp(x) compute the Euler constant raised to the power of \"x\"\n",
    "# sing(x) computes the sine of x\n",
    "# cos(x) computes the cosine of x\n",
    "# In this example, we're substituting x = 1\n",
    "\n",
    "print(np.log(1))\n",
    "print(np.exp(1))\n",
    "print(np.sin(1))\n",
    "print(np.cos(1))\n",
    "print(np.sqrt(1))\n",
    "\n",
    "print(np.sqrt(44))"
   ]
  },
  {
   "cell_type": "markdown",
   "metadata": {},
   "source": [
    "<font size = \"5\">\n",
    "\n",
    "Raising to the power of a number\n",
    "\n",
    "$ x^5 $"
   ]
  },
  {
   "cell_type": "code",
   "execution_count": 4,
   "metadata": {},
   "outputs": [
    {
     "data": {
      "text/plain": [
       "100000"
      ]
     },
     "execution_count": 4,
     "metadata": {},
     "output_type": "execute_result"
    }
   ],
   "source": [
    "x = 10\n",
    "x ** 5\n",
    "\n",
    "# Not x^5"
   ]
  },
  {
   "attachments": {},
   "cell_type": "markdown",
   "metadata": {},
   "source": [
    "<font size = \"5\">\n",
    "\n",
    "Try it yourself!\n",
    "\n",
    "- Create a new variable, $x = 5$\n",
    "- Compute $\\pi x^2$\n",
    "- Compute $ \\frac{1}{\\sqrt{2\\pi}}e^{-x^2} $"
   ]
  },
  {
   "cell_type": "code",
   "execution_count": 4,
   "metadata": {},
   "outputs": [
    {
     "name": "stdout",
     "output_type": "stream",
     "text": [
      "78.53981633974483\n",
      "5.540487995575841e-12\n"
     ]
    }
   ],
   "source": [
    "# Write your own code\n",
    "x = 5\n",
    "print(np.pi * (x**2))\n",
    "print((1/(np.sqrt(2*np.pi)))*(np.e ** (-x**2)))\n",
    "\n",
    "\n"
   ]
  },
  {
   "attachments": {},
   "cell_type": "markdown",
   "metadata": {},
   "source": [
    "##  <span style=\"color:darkblue\"> III. Vector Arrays </span>"
   ]
  },
  {
   "attachments": {},
   "cell_type": "markdown",
   "metadata": {},
   "source": [
    "<font size = \"5\">\n",
    "Create an array from a list\n",
    "\n",
    "$ \\text{ }$\n",
    "$ a = \\begin{pmatrix} 1 \\\\ 2 \\\\ 3 \\end{pmatrix}\n",
    "\\qquad b = \\begin{pmatrix} 0 \\\\ 1 \\\\ 0\\end{pmatrix}\n",
    "\\qquad c = \\begin{pmatrix} 10 \\\\ 100 \\\\ 1000 \\\\ 2000 \\\\ 5000 \\end{pmatrix} \n",
    "\\qquad d = \\begin{pmatrix} 4 \\\\ 2 \\end{pmatrix} $"
   ]
  },
  {
   "cell_type": "code",
   "execution_count": 7,
   "metadata": {},
   "outputs": [
    {
     "name": "stdout",
     "output_type": "stream",
     "text": [
      "[1 2 3]\n",
      "[0 1 0]\n",
      "[  10  100 1000 2000 5000]\n"
     ]
    }
   ],
   "source": [
    "# You create an array by converting a list [1,2,3] to a numeric object\n",
    "# \"array\" is a subfunction of the library numPy.\n",
    "\n",
    "vec_a  = np.array([1,2,3])\n",
    "vec_b  = np.array([0,1,0])\n",
    "vec_c  = np.array([10,100,1000,2000,5000 ])\n",
    "\n",
    "print(vec_a)\n",
    "print(vec_b)\n",
    "print(vec_c)"
   ]
  },
  {
   "attachments": {},
   "cell_type": "markdown",
   "metadata": {},
   "source": [
    "<font size = \"5\">\n",
    "\n",
    "Accessing an element of an array"
   ]
  },
  {
   "cell_type": "code",
   "execution_count": 8,
   "metadata": {},
   "outputs": [
    {
     "name": "stdout",
     "output_type": "stream",
     "text": [
      "1\n",
      "3\n"
     ]
    }
   ],
   "source": [
    "# Arrays, like lists, start their numbering at zero.\n",
    "# You also access them with square brackets\n",
    "\n",
    "print(vec_a[0])\n",
    "print(vec_a[2])\n"
   ]
  },
  {
   "attachments": {},
   "cell_type": "markdown",
   "metadata": {},
   "source": [
    "<font size = \"5\">\n",
    "Operations with a single array and a scalar"
   ]
  },
  {
   "attachments": {},
   "cell_type": "markdown",
   "metadata": {},
   "source": [
    "<font size = \"5\">\n",
    "\n",
    "$ a + 2 = \\begin{pmatrix} a_1 + 2 \\\\ a_2 + 2 \\\\ a_3 + 2 \\end{pmatrix}$"
   ]
  },
  {
   "cell_type": "code",
   "execution_count": 9,
   "metadata": {},
   "outputs": [
    {
     "name": "stdout",
     "output_type": "stream",
     "text": [
      "[2 4 6]\n",
      "[0.5 1.  1.5]\n",
      "[3 4 5]\n",
      "[1 4 9]\n"
     ]
    }
   ],
   "source": [
    "# A scalar refers to either an int or float\n",
    "# We can do many common operations with \n",
    "\n",
    "print(vec_a * 2)\n",
    "print(vec_a / 2)\n",
    "print(vec_a + 2)\n",
    "print(vec_a ** 2)"
   ]
  },
  {
   "attachments": {},
   "cell_type": "markdown",
   "metadata": {},
   "source": [
    "<font size = \"5\">\n",
    "Element-by-element addition between two arrays of the same size\n",
    "\n",
    "$\\text{ }$\n",
    "\n",
    "$ a + b = \\begin{pmatrix} a_1 \\\\ a_2 \\\\ a_3 \\end{pmatrix} +\n",
    "          \\begin{pmatrix} b_1 \\\\ b_2 \\\\ b_3 \\end{pmatrix} =\n",
    "          \\begin{pmatrix} a_1 + b_1 \\\\ a_2 + b_2 \\\\ a_3 + b_3 \\end{pmatrix}$"
   ]
  },
  {
   "cell_type": "code",
   "execution_count": 10,
   "metadata": {},
   "outputs": [
    {
     "name": "stdout",
     "output_type": "stream",
     "text": [
      "[1 2 3]\n",
      "[0 1 0]\n",
      "[1 3 3]\n"
     ]
    }
   ],
   "source": [
    "print(vec_a)\n",
    "print(vec_b)\n",
    "print(vec_a + vec_b)  # a1 + b1, a2 + b2, a3 + b3"
   ]
  },
  {
   "cell_type": "code",
   "execution_count": 22,
   "metadata": {},
   "outputs": [
    {
     "name": "stdout",
     "output_type": "stream",
     "text": [
      "[1 3 3]\n"
     ]
    }
   ],
   "source": [
    "# When you add two arrays of the same size,\n",
    "# Python adds the individual elements in each position\n",
    "\n",
    "print(vec_a + vec_b)\n"
   ]
  },
  {
   "attachments": {},
   "cell_type": "markdown",
   "metadata": {},
   "source": [
    "<font size =\"5\">\n",
    "\n",
    "The default multiplication option is element-by element:\n",
    "\n",
    "$ a * b = \\begin{pmatrix} a_1 * b_1 \\\\ a_2 * b_2 \\\\ a_3 * b_3 \\end{pmatrix}$"
   ]
  },
  {
   "cell_type": "code",
   "execution_count": 11,
   "metadata": {},
   "outputs": [
    {
     "name": "stdout",
     "output_type": "stream",
     "text": [
      "[0 2 0]\n",
      "[1 1 3]\n",
      "[inf  2. inf]\n"
     ]
    },
    {
     "name": "stderr",
     "output_type": "stream",
     "text": [
      "/var/folders/dt/k49s8y5n3jq_x0lrs9vgsmqh0000gn/T/ipykernel_92992/3839639845.py:6: RuntimeWarning: divide by zero encountered in divide\n",
      "  print(vec_a / vec_b)\n"
     ]
    }
   ],
   "source": [
    "# We can do other similar element-by-element operations\n",
    "# such as multiplication, subtraction, and division.\n",
    "\n",
    "print(vec_a * vec_b)\n",
    "print(vec_a - vec_b)\n",
    "print(vec_a / vec_b)\n"
   ]
  },
  {
   "attachments": {},
   "cell_type": "markdown",
   "metadata": {},
   "source": [
    "<font size = \"5\">\n",
    "Summary statistics of an array"
   ]
  },
  {
   "cell_type": "code",
   "execution_count": 12,
   "metadata": {},
   "outputs": [
    {
     "name": "stdout",
     "output_type": "stream",
     "text": [
      "2.0\n",
      "0.816496580927726\n",
      "1\n",
      "2.0\n",
      "3\n"
     ]
    }
   ],
   "source": [
    "# The function np.mean() computes the mean of an array\n",
    "# We can do similar operations for the standard deviation (std),\n",
    "# the minimum (min), the median (median), and the maximum (max).\n",
    "\n",
    "print(np.mean(vec_a))\n",
    "print(np.std(vec_a))\n",
    "print(np.min(vec_a))\n",
    "print(np.median(vec_a))\n",
    "print(np.max(vec_a))"
   ]
  },
  {
   "attachments": {},
   "cell_type": "markdown",
   "metadata": {},
   "source": [
    "<font size = \"5\">\n",
    "\n",
    "Try it yourself! Compute the mean of\n",
    "\n",
    "\n",
    "$ e = \\begin{pmatrix} 10 \\\\ 8 \\\\ 15 \\\\ 0 \\\\ 24 \\end{pmatrix} $"
   ]
  },
  {
   "cell_type": "code",
   "execution_count": 24,
   "metadata": {},
   "outputs": [
    {
     "name": "stdout",
     "output_type": "stream",
     "text": [
      "11.4\n",
      "10.0\n"
     ]
    }
   ],
   "source": [
    "# Create your own array and compute any of the above summary statistics\n",
    "\n",
    "e = np.array( [10,8,15,0,24] )\n",
    "\n",
    "print(np.mean(e))\n",
    "print(np.median(e))\n",
    "\n",
    "\n"
   ]
  },
  {
   "attachments": {},
   "cell_type": "markdown",
   "metadata": {},
   "source": [
    "<font size = \"5\">\n",
    "<span style=\"color:red\"> Common Pitfall </span>: Make sure that the arrays have the same size"
   ]
  },
  {
   "cell_type": "code",
   "execution_count": 29,
   "metadata": {},
   "outputs": [
    {
     "name": "stdout",
     "output_type": "stream",
     "text": [
      "[1 2 3]\n",
      "[  10  100 1000 2000 5000]\n"
     ]
    }
   ],
   "source": [
    "print(vec_a)\n",
    "print(vec_c)"
   ]
  },
  {
   "cell_type": "code",
   "execution_count": 23,
   "metadata": {},
   "outputs": [
    {
     "name": "stdout",
     "output_type": "stream",
     "text": [
      "(3,)\n",
      "(5,)\n"
     ]
    }
   ],
   "source": [
    "print(vec_a.shape)\n",
    "print(vec_c.shape)"
   ]
  },
  {
   "cell_type": "code",
   "execution_count": 26,
   "metadata": {},
   "outputs": [
    {
     "data": {
      "text/plain": [
       "101"
      ]
     },
     "execution_count": 26,
     "metadata": {},
     "output_type": "execute_result"
    }
   ],
   "source": [
    "# Here I try to combine two arrays of different size.\n",
    "\n",
    "vec_a[0] + vec_c[1]"
   ]
  },
  {
   "attachments": {},
   "cell_type": "markdown",
   "metadata": {},
   "source": [
    "##  <span style=\"color:darkblue\"> IV. Random Numbers </span>\n",
    "\n",
    "<font size = \"5\">\n",
    "\n",
    "Why randomness?\n",
    "\n",
    "- Simulate different scenarios: high risk or low risk\n",
    "- Study properties of a complex system and/or estimator\n",
    "- In medicine, randomly assign subjects to treatment or control"
   ]
  },
  {
   "attachments": {},
   "cell_type": "markdown",
   "metadata": {},
   "source": [
    "<font size = \"5\">\n",
    "\n",
    "Create a vector of random variables"
   ]
  },
  {
   "cell_type": "code",
   "execution_count": 36,
   "metadata": {},
   "outputs": [
    {
     "name": "stdout",
     "output_type": "stream",
     "text": [
      "[ 0.44177169  0.3568194  -0.15627271  0.3166971  -0.51035026  0.53662107\n",
      " -1.52720166 -0.04763876 -0.03585219 -1.31637857]\n",
      "-0.5103502589686486\n"
     ]
    }
   ],
   "source": [
    "# This code creates a vector of random variables \n",
    "# generated from a normal distribution with\n",
    "# mean \"loc\" (location) and standard deviation \"scale\"\n",
    "# the number of distinct variabels is \"size\"\n",
    "\n",
    "randomvar_a = np.random.normal(loc=0, scale=1, size=10)\n",
    "print(randomvar_a)\n",
    "print(randomvar_a[4])"
   ]
  },
  {
   "attachments": {},
   "cell_type": "markdown",
   "metadata": {},
   "source": [
    "<font size = \"5\">\n",
    "\n",
    "Random numbers differ every time!\n",
    "\n",
    "- Avoid this problem by drawing from a \"pregenerated\" set.\n",
    "- This is called a seed"
   ]
  },
  {
   "cell_type": "code",
   "execution_count": 5,
   "metadata": {},
   "outputs": [
    {
     "name": "stdout",
     "output_type": "stream",
     "text": [
      "[-0.33101264 -0.438638   -0.75090825 -0.36108372  0.46834289 -0.11326744\n",
      " -0.04432165 -2.45982754  1.77349369  1.09337644]\n"
     ]
    }
   ],
   "source": [
    "# Your computer will typically generate different numbers every time you run a command\n",
    "# However, sometimes you want to be able to replicate the results\n",
    "# You can choose any other number instead of \"12345\". This will produce another set\n",
    "# of random numbers, but they will give the same answers\n",
    "\n",
    "np.random.seed(103931)\n",
    "\n",
    "random_var_b = np.random.normal(loc=0, scale=1, size=10)\n",
    "print(random_var_b)"
   ]
  },
  {
   "attachments": {},
   "cell_type": "markdown",
   "metadata": {},
   "source": [
    "<font size = \"5\">\n",
    "\n",
    "Compute a histogram with the results"
   ]
  },
  {
   "cell_type": "code",
   "execution_count": 7,
   "metadata": {},
   "outputs": [
    {
     "name": "stdout",
     "output_type": "stream",
     "text": [
      "[ 6.79024500e-01 -6.46627376e-01  9.26698716e-01 -3.20274995e-01\n",
      " -1.96689550e-01  3.53924632e-01  1.27572866e+00 -1.49469727e+00\n",
      "  9.80888907e-02 -9.55103610e-01 -6.48725762e-01 -4.90916672e-01\n",
      "  8.55140628e-02 -3.27925219e-01  7.51826431e-01  8.33036088e-01\n",
      "  1.17290213e+00 -3.82774697e-01 -5.04518792e-01 -9.20755213e-01\n",
      " -1.58276804e+00 -1.53403953e+00 -1.09410894e+00 -8.11306464e-01\n",
      " -9.19031143e-01  2.82454890e-03  7.26168748e-01 -2.91154114e-01\n",
      " -9.68845025e-01 -7.43818493e-01  9.85148200e-01  4.94972444e-01\n",
      "  9.02793301e-01  1.79548606e+00  1.80342736e-01 -7.65642907e-01\n",
      "  1.00606648e+00  4.12422294e-01  3.22544175e-01  6.18773761e-02\n",
      " -1.59236471e-01 -1.43593376e+00  2.96163392e-01 -4.07251134e-01\n",
      "  9.83118700e-01  5.69248950e-01  6.15958230e-01  5.92613316e-01\n",
      "  2.43830518e-01  1.58263420e+00  3.34632768e-01 -7.01500762e-01\n",
      " -6.85067571e-01 -1.75230447e+00 -1.55103001e+00  4.59721183e-01\n",
      " -2.84936079e-01 -3.39464184e-03 -1.47970656e+00  2.55503623e-01\n",
      "  1.18866888e+00  1.30590137e+00  2.04601491e+00 -9.41182114e-01\n",
      " -2.09211496e+00 -8.53710521e-02  1.50042958e-01  1.22870368e+00\n",
      " -7.99208963e-01 -1.08160725e+00  3.95109560e-01  4.03999337e-01\n",
      "  1.16548885e-01  1.89209301e-01 -5.60740004e-01  1.12493972e-01\n",
      "  7.86031067e-01  9.35783864e-01  3.45720999e-01 -1.78328521e+00\n",
      "  3.33691642e-01 -4.59922728e-02  5.66785234e-01 -2.24071967e+00\n",
      " -2.70518406e-02  3.61720204e-01 -2.94560050e-01  2.35691151e-01\n",
      " -7.50674307e-01 -2.38534846e-02  6.81563688e-01  1.47488603e-01\n",
      " -5.82453767e-01 -5.90816079e-02  9.30401007e-01  5.55812157e-01\n",
      "  4.81203702e-01  1.54219322e+00  7.71372263e-01 -3.17094950e-01\n",
      "  6.23101994e-01  5.08877709e-01 -1.66416648e+00 -2.83679100e-01\n",
      " -1.45625919e+00 -1.03170203e+00  4.47211375e-01  2.53501937e-01\n",
      " -1.52146558e-01  1.35569263e+00  3.48532685e-01  1.20689641e+00\n",
      "  1.01207264e+00 -3.60653592e+00  3.94768657e-01 -2.21018895e-02\n",
      "  1.74986504e+00  2.83949009e-01 -5.94100618e-01 -2.31968316e-02\n",
      "  7.37740794e-02 -2.48487962e+00  1.26928940e+00 -2.01214799e+00\n",
      "  9.28220111e-01 -3.99590868e-01 -2.53829672e-01 -1.16121480e-01\n",
      "  8.37013823e-01 -3.68882136e-01 -4.35768092e-01  9.27552879e-02\n",
      "  4.64185708e-01  2.39041445e-01  4.68418578e-01 -2.69301204e+00\n",
      "  4.82493110e-01  6.76009435e-01 -1.52013756e+00  6.68211157e-01\n",
      " -1.12032939e+00 -4.70044388e-01 -4.05176046e-01 -8.55364603e-01\n",
      " -1.95680654e+00  8.60894435e-01 -4.83329412e-01 -1.05674241e+00\n",
      " -1.65291549e-02  2.65728030e-01 -6.45434987e-03  1.59221963e-01\n",
      " -5.65592810e-01 -1.39292384e+00 -4.95887174e-01  2.90459985e-01\n",
      " -5.52127171e-01  1.07720976e+00 -2.23510581e-01  6.25950379e-02\n",
      "  2.49977313e-01 -4.41769468e-01  1.30592602e+00  3.69841198e-01\n",
      "  3.46456970e-01  6.87207042e-01 -5.40894356e-01  4.12130238e-02\n",
      "  6.68279655e-01 -2.83186029e-01 -5.63600988e-03 -4.77431549e-02\n",
      " -1.05454118e+00 -9.09398230e-01  1.15707850e+00  3.57609012e-01\n",
      "  1.85776790e-01 -1.35004141e+00  1.12806384e-01  1.03747980e+00\n",
      "  5.76039171e-01 -5.26085009e-01  2.38170667e-02  8.95912707e-01\n",
      "  2.63724068e-01 -2.88341507e+00 -6.17707106e-02 -4.73252240e-01\n",
      "  2.37046976e-01 -3.40904083e-01 -1.04304540e+00 -9.91011283e-01\n",
      "  2.14444705e+00 -4.84887283e-02  1.66422247e+00  2.00843819e+00\n",
      " -1.68351448e-01 -3.68258107e-01 -1.10757824e+00  7.61730734e-01\n",
      " -4.99200665e-01  1.99287560e-01 -6.59145453e-01  1.86049030e+00\n",
      "  3.11682818e-01 -9.40159107e-01  2.20523268e-01 -2.70026162e-01\n",
      "  1.61430738e-01 -1.09520092e+00  4.77250739e-01  6.50181193e-01\n",
      " -1.74039080e+00  3.48395542e-01  1.20651871e+00 -2.77040540e-01\n",
      " -6.16887783e-01  4.44686047e-01 -2.47360280e-01  1.26414790e+00\n",
      " -6.45213786e-01 -6.03388602e-01  9.37431831e-01 -1.29606653e+00\n",
      " -2.35354335e-01  5.03630533e-01 -9.95338761e-01  1.98152681e+00\n",
      " -8.34543945e-01  1.11689898e-01 -2.33635366e-01 -3.62551036e-01\n",
      " -2.82204923e-01 -1.39993601e-01  1.33830368e+00  1.85846749e+00\n",
      "  6.63892569e-01 -1.29621287e+00 -1.49897306e+00 -3.60358019e-01\n",
      " -7.24232270e-01  3.96338502e-01 -4.66290391e-01  2.00761840e+00\n",
      " -1.04315415e+00  1.42558929e+00  4.01617228e-01  1.22286661e+00\n",
      " -9.72936429e-01  7.29267565e-01 -9.39285812e-01  1.14911845e-01\n",
      "  3.79979199e-01  4.34624926e-01 -7.44850300e-01  2.73414453e+00\n",
      " -1.88302950e-01  9.00360877e-01  4.24877313e-01  1.25075259e-01\n",
      "  3.76975107e-01  8.50264745e-01 -9.80418008e-01  4.69213557e-01\n",
      "  9.34492554e-01  1.03347830e+00 -1.11558840e+00  8.04500090e-01\n",
      " -3.29421431e-01 -3.33692565e-01 -6.53371559e-01 -9.60297078e-02\n",
      "  2.35295346e-01  3.66508616e-01 -2.03643407e+00  9.09391718e-01\n",
      "  8.45618629e-01 -1.98278140e+00 -1.70933110e+00 -4.32379745e-01\n",
      " -2.06976038e-01  2.15306236e+00  1.40272577e+00  6.38700040e-01\n",
      "  4.82032073e-01  7.60542366e-01 -1.45032098e+00  1.51785295e-01\n",
      " -9.99293621e-02 -1.49220477e+00  9.59142700e-01  7.65350934e-01\n",
      "  4.66543571e-01 -3.62676164e-01 -7.45322149e-02  7.25310817e-01\n",
      "  5.85572900e-01 -9.25534160e-01  7.08935237e-01  1.00182303e+00\n",
      "  9.17038130e-02 -8.25374349e-01  8.41429177e-01 -4.79825067e-01\n",
      "  5.09849573e-02  1.29483317e+00  1.84735499e-01 -2.05074553e-01\n",
      "  1.14425336e+00  1.40981924e-01  4.78323145e-01 -1.68050113e+00\n",
      "  4.86482942e-01 -2.01902185e+00 -5.27741231e-01 -6.53627595e-01\n",
      "  5.07365015e-01 -1.57766089e+00 -5.35415092e-01 -1.57324045e+00\n",
      " -2.57935826e-01  2.80259273e-01 -9.94215765e-01 -9.85876794e-01\n",
      "  1.04812798e+00 -1.33067874e-01  7.77349703e-01  1.91534595e+00\n",
      " -3.74752616e-01 -8.23298942e-01  4.45366625e-01 -4.65023615e-01\n",
      "  1.22207331e+00  6.68801728e-01  1.90469585e-01 -4.80889001e-01\n",
      " -1.96651050e-01  5.49139643e-01  3.37056542e-01  6.89916574e-01\n",
      "  9.94271145e-03  1.60745472e-01  1.43010974e-01  1.21941974e+00\n",
      " -3.91821888e-01  1.66825580e+00  3.82131620e-01  2.30046411e-01\n",
      " -8.25159474e-01  1.06815721e+00  4.43511834e-01  1.26452739e-01\n",
      " -1.37649766e+00  1.31231915e+00 -9.19642735e-01  2.74449170e-01\n",
      " -1.45966518e+00  3.13509437e-01 -8.92607358e-01 -8.25394493e-01\n",
      "  9.93273873e-01 -1.24941481e+00 -8.92220110e-01  1.64350013e+00\n",
      " -1.63112538e-01 -1.18122230e-01 -1.48609621e+00  1.75227194e-01\n",
      "  3.40044859e-02  2.22630609e+00 -1.28842288e-01 -5.87473520e-01\n",
      " -2.44015142e-02  6.03268013e-01  1.65443824e+00 -1.15440644e+00\n",
      "  1.70916977e+00 -1.13238673e-01 -1.52466913e+00 -2.51628080e-02\n",
      "  1.58441022e+00  4.94503898e-01  5.17495798e-03 -2.19552456e-01\n",
      " -3.84840721e-01 -1.41045509e+00 -2.91615010e-02  1.73308215e-01\n",
      "  1.48862852e+00  4.24465954e-01  7.76629552e-01 -1.03374885e+00\n",
      "  2.08659654e-01 -8.83058119e-01  2.63480591e+00 -1.64016068e-02\n",
      "  2.78724402e-01  7.10152231e-01  1.44450646e+00  7.03086681e-01\n",
      " -1.21446051e+00  3.71717840e-01  7.84967169e-01  1.32174678e-01\n",
      " -2.36525306e+00  1.59578992e+00 -4.86027076e-01 -1.07095199e+00\n",
      "  7.93934329e-01 -4.01568214e-01 -4.50625400e-01  9.45202203e-01\n",
      " -2.54940360e-01  1.05199159e+00  1.64395174e+00  2.27012117e+00\n",
      "  1.01475349e+00 -1.57770654e-01  4.54405592e-01  4.56874670e-01\n",
      "  1.75769444e+00 -1.24538355e+00 -6.54141163e-01 -1.98104637e-02\n",
      "  8.98754790e-01 -4.12101912e-01 -1.02574948e+00 -6.38570581e-01\n",
      "  9.29044753e-01  1.05743455e+00 -4.81314188e-01  5.45620226e-01\n",
      "  2.61063040e-01  7.07228621e-01  8.60601877e-01  2.12187472e+00\n",
      "  2.83234437e-01 -2.71353665e-01 -8.02510277e-03 -1.11878806e+00\n",
      " -1.09446797e+00  8.74370822e-01 -1.06421901e+00  8.94076060e-01\n",
      "  2.01735225e+00  1.92343084e+00 -2.17837453e-01  1.67872464e+00\n",
      " -9.09438138e-01 -1.06958541e+00 -1.36998885e+00 -7.55524254e-01\n",
      "  3.53151947e-02  4.00826979e-01  1.19312403e+00 -1.43758900e+00\n",
      " -3.79449067e-01  6.49094829e-01  6.92326059e-01  1.00101732e-01\n",
      " -3.75578990e-01 -1.40937558e+00 -6.46567864e-01  1.14758296e+00\n",
      " -6.19499546e-01 -3.59959409e-01 -9.84314603e-01  1.42793590e+00\n",
      "  1.41958939e-01  3.06104199e-02 -2.15015467e+00  7.00607862e-02\n",
      " -5.66921554e-01  1.58981662e-01 -9.26207512e-01 -2.23154198e-01\n",
      "  9.71549757e-01  7.58559846e-01 -1.24338841e+00 -5.14069386e-01\n",
      " -6.18191748e-01 -1.07594845e+00  6.19395396e-01  5.82593537e-01\n",
      " -5.91231898e-02 -7.14726913e-01  1.00896591e+00  4.31863171e-01\n",
      "  1.79481353e+00 -7.71183951e-01 -1.12313124e+00 -5.01086390e-01\n",
      "  2.07792781e-01  9.74719131e-01 -5.45513196e-01  6.95788398e-01\n",
      "  9.60817151e-01  5.86172053e-01 -1.87031014e+00  8.68428657e-01\n",
      " -1.62213135e+00 -1.15838200e+00  1.86107701e-01 -1.54532598e+00\n",
      " -4.21878542e-01  9.15274959e-01 -1.80166304e-01 -3.46235949e-01\n",
      "  1.13560947e+00 -9.54328223e-01 -1.40115462e+00  8.66980008e-01\n",
      " -1.07695346e-01 -4.14599850e-02 -1.08240350e+00  8.66005429e-01\n",
      "  7.47124044e-01 -1.67199255e+00  5.57071703e-01 -7.40956263e-01\n",
      " -3.18612346e-01  1.14943189e+00 -4.09656627e-01  9.30548177e-01\n",
      "  8.96039870e-01 -1.40097175e-01 -2.53582060e+00 -8.98021672e-02\n",
      " -4.66244200e-01  8.58950754e-01 -7.97898916e-01  3.93261548e-01\n",
      " -7.27679367e-02 -5.57233810e-01 -4.19707158e-01  1.10223333e-02\n",
      "  4.81038370e-01 -2.14775417e-02 -4.97896132e-01  5.80621642e-01\n",
      " -1.53589068e-01  1.71937783e+00  2.41883543e+00  1.89981434e+00\n",
      " -1.79331173e+00 -1.82007008e+00  2.15976825e-02 -4.38331936e-01\n",
      "  6.95019740e-01 -1.30175757e+00 -2.79381826e-02 -1.50492457e+00\n",
      "  5.28413203e-02 -1.04797337e+00  7.14099728e-01  1.46877634e-01\n",
      " -1.22937882e+00  1.04970833e+00  1.19464145e-01  2.33747794e+00\n",
      " -6.98255182e-01  1.00749662e+00  2.38646808e+00  1.93112860e-01\n",
      "  1.18297624e+00 -6.95977832e-01  1.25831755e+00 -2.31154774e+00\n",
      " -5.90496077e-01 -6.37376228e-01  1.16632062e+00  1.22578773e+00\n",
      " -1.04149062e+00  3.38879543e-01 -1.05651441e+00 -2.15150000e+00\n",
      " -9.37981907e-01  8.91927219e-01 -8.63223449e-01  5.30445350e-01\n",
      " -1.66662484e+00  1.83583945e-01  7.60374059e-01  3.96749438e-02\n",
      " -7.19417683e-01 -5.97822770e-02 -8.66518024e-01  5.53490810e-01\n",
      "  6.51976160e-01 -1.51097611e-01 -2.47467523e-01  8.96388278e-01\n",
      "  9.38969274e-01 -1.10285724e+00  8.33397906e-01 -8.88303168e-01\n",
      "  7.46033587e-01  1.89171355e+00  1.03038105e-01 -8.55616108e-01\n",
      " -3.90030345e-01 -6.08485354e-01 -3.31900619e-02  9.51661294e-01\n",
      "  1.37734275e-01 -4.04432605e-01  7.46355044e-01 -9.14118565e-01\n",
      "  7.42958086e-01  2.58821580e-01  1.64329260e-01  1.21801069e+00\n",
      " -1.45865408e-01  2.06056642e+00 -1.10489782e+00  7.34783851e-01\n",
      "  1.20114405e-01 -5.91218726e-02 -7.71192997e-01  1.89244516e-01\n",
      "  7.86835559e-01  1.88413670e-01  1.25177594e+00  4.06032626e-01\n",
      "  6.36594915e-01  9.55044752e-01 -8.34751387e-01  1.89054077e+00\n",
      "  4.63577571e-01 -1.89198090e-01  9.37188740e-04  2.08159726e+00\n",
      " -1.02337879e+00  3.93575581e-01 -1.35244849e+00  6.79534314e-02\n",
      "  1.71994999e-02  1.77727164e+00 -1.04072351e+00 -1.11385789e+00\n",
      "  4.40833688e-01 -9.60070818e-01 -3.13184140e-01 -8.86091256e-01\n",
      "  6.79980455e-01  1.75766727e+00 -1.15027293e+00 -2.35211231e+00\n",
      "  2.42471337e-01 -7.42712956e-01  9.45926948e-01  4.87414573e-01\n",
      "  1.71652789e+00 -1.32928061e-01 -1.48739668e+00  1.67380022e+00\n",
      "  9.15423969e-01  2.02562826e+00 -1.14259617e+00 -1.27649654e-01\n",
      " -1.84178377e-01  2.06012340e-01 -1.86094237e+00 -4.16774603e-01\n",
      " -9.16809327e-01  1.38525830e-01  7.42863657e-01  7.12418328e-01\n",
      " -3.81640669e-01 -7.25812284e-01 -3.01585642e-01 -6.48487123e-01\n",
      "  1.57372111e+00 -6.12145799e-01  9.44171276e-01 -9.05279501e-01\n",
      "  1.31234082e+00  8.70840007e-01 -7.53243597e-01  1.18223955e+00\n",
      "  2.13034339e-01  2.05459105e-01 -5.90564675e-01 -1.92056765e+00\n",
      "  3.78923083e-01 -1.41216311e+00  7.87058683e-01  3.27151149e-01\n",
      " -4.81688856e-01  2.16687884e-01 -1.03230524e+00 -6.21077302e-02\n",
      "  5.15567207e-01 -3.41483271e-01 -1.86301616e+00 -3.45547402e-01\n",
      " -9.96042385e-02 -4.06308910e-01 -1.99389075e-01  1.66074871e+00\n",
      " -1.06654964e+00 -1.21289669e+00  6.91552036e-01 -2.62393664e-01\n",
      "  1.22281829e+00 -4.47531076e-01 -1.18382571e+00 -2.43998230e+00\n",
      "  1.00008341e+00  8.55174760e-02 -5.62588984e-01 -1.07912901e+00\n",
      " -4.73880320e-01 -8.02599761e-01  3.03160208e-01 -1.81369434e-01\n",
      " -2.14913008e+00 -2.76363325e+00  9.22820580e-01  9.34750296e-01\n",
      " -1.48194313e+00 -5.49757101e-01  8.85510548e-01  4.28123633e-01\n",
      " -6.74046503e-01 -2.10151018e-01 -9.98426523e-01  8.85877909e-02\n",
      " -1.72177597e+00  1.25000854e-01  5.74642740e-01 -4.02566398e-01\n",
      " -5.50143988e-01 -7.51463494e-01 -6.87780185e-01  1.02319127e+00\n",
      " -7.14713225e-01 -5.97572473e-01 -9.73080696e-01  7.99785472e-01\n",
      " -2.01676687e+00 -2.18704470e+00 -2.30133497e-01  1.74426197e+00\n",
      "  2.06370794e+00  3.85357621e-01 -1.05874693e+00  6.01010744e-01\n",
      "  9.28468245e-02  4.18311063e-01  2.48280590e+00  1.19362096e+00\n",
      "  1.15637178e+00  3.25951153e-01 -2.62399822e-01  1.26954325e+00\n",
      " -6.66402123e-01  6.51342410e-01  6.92575224e-01 -1.82638295e+00\n",
      "  1.77514279e+00  6.14855658e-01 -1.25945123e+00 -1.49894417e-01\n",
      "  8.68116691e-01 -1.62329978e+00  1.40547813e+00  4.38806529e-01\n",
      "  1.53224134e-01 -6.36166239e-01 -1.14407540e-01  2.93810454e-01\n",
      " -3.41243384e-01  2.37841993e-01  2.82453828e-01  1.27904388e+00\n",
      " -1.44092306e+00  1.46857768e-01  2.84556730e-01  6.24041403e-01\n",
      "  5.10271724e-01  4.23171452e-01 -3.30830657e-02 -1.26039310e+00\n",
      " -6.72555103e-04 -1.57902868e+00 -8.74558780e-02  2.72145351e-01\n",
      "  1.25961000e+00  2.18273362e+00  4.00526890e-01  8.51548791e-01\n",
      "  9.88646373e-01 -4.35546695e-01  1.44546111e+00  1.40742977e+00\n",
      " -5.04475621e-01  6.01977084e-01 -2.91436344e-01 -1.43207024e-01\n",
      " -1.23025360e+00 -8.98288746e-01  3.52707944e-01 -1.56135232e-01\n",
      " -1.51027476e+00 -3.26733689e-01 -3.47212611e-01  2.38024333e-01\n",
      " -1.03725683e+00 -7.54364902e-01  2.19861656e+00 -1.28584594e+00\n",
      "  1.19561919e+00 -5.53795234e-01  6.90933679e-01  3.14811362e-01\n",
      " -9.59127519e-01  5.74965823e-01 -1.34363002e+00  1.66919524e+00\n",
      "  3.20093468e-01 -9.67199562e-01  5.22728033e-01 -1.91937165e+00\n",
      "  3.29440132e-01  1.85574208e+00  5.35397462e-01 -1.68249467e+00\n",
      "  8.28955034e-01 -1.71264053e+00 -2.77024277e-01  5.15778745e-01\n",
      " -2.17550077e+00  2.77773196e-02 -5.40896979e-01  6.60362219e-01\n",
      "  1.07348107e+00  2.37348614e+00 -1.10267788e+00 -7.85101477e-01\n",
      " -4.48896138e-01  1.13930051e+00 -6.35004144e-01  1.80156061e+00\n",
      "  3.12835482e+00  5.69481003e-01  5.86868823e-01  5.37977412e-01\n",
      "  5.25296905e-01  1.10936901e+00  3.20638582e-01 -1.59991346e-01\n",
      "  7.20392657e-01 -3.20010067e-01 -1.73349399e-01 -5.40862134e-01\n",
      " -1.09035912e+00  2.75302543e+00 -8.75579580e-01 -5.46204327e-01\n",
      " -3.05708315e-01  1.88613088e-01 -6.55699875e-02  5.06266251e-01\n",
      "  2.40554104e+00 -1.62112660e+00  1.79701356e+00  1.00335248e+00\n",
      " -4.18990687e-01  7.16494395e-01 -4.31334223e-01  4.82389923e-01\n",
      "  7.41806539e-01 -1.14065805e+00 -1.03028245e+00  4.80737210e-01\n",
      " -5.09805610e-01 -4.19944806e-01  1.21127178e+00  1.93452951e-01\n",
      " -1.59682634e+00  3.93613073e-01 -7.40071149e-01 -1.32138298e+00\n",
      " -2.70766317e+00  8.24437873e-01  1.24115609e+00 -6.34650499e-01\n",
      " -5.05771558e-01 -6.12361860e-01  8.07485896e-01  1.58159595e+00\n",
      "  2.15329802e+00  3.03213409e-01  1.82730949e+00  1.33336637e+00\n",
      " -3.80394278e-01 -1.63583077e+00  9.79402033e-01  1.86382285e-01\n",
      "  5.53287814e-01  1.06459766e+00 -8.49359908e-01  7.50160936e-01\n",
      " -5.83828680e-02  1.35169124e+00  5.93189163e-01  4.85327582e-01\n",
      " -5.36025862e-01  1.52349383e-01 -9.95455630e-01  8.28172773e-02\n",
      " -2.36647470e+00  4.25529070e-01  5.98757914e-01 -6.94950455e-01\n",
      "  1.05930082e-01 -7.87536729e-02  1.64091746e-01  4.00135514e-01\n",
      "  1.62307785e+00 -7.06531920e-01  1.43215744e+00 -2.92761185e-01\n",
      " -1.14208593e-01 -1.74669248e-01 -2.68425867e-01  1.80484334e-01\n",
      " -9.54550095e-01  4.60662217e-02 -3.59486402e-01  3.62306045e-01\n",
      "  1.71012973e+00 -2.16335553e+00  6.75144808e-02  1.93429849e+00\n",
      " -4.14978371e-01  8.09456155e-01  4.23985996e-01  1.07826467e+00\n",
      " -5.40429157e-01 -2.65346692e-01 -1.29011311e+00 -6.80044054e-01\n",
      " -7.73421461e-01 -8.69180860e-02 -1.42742907e-01  6.16821697e-01\n",
      "  2.67687711e-01  1.52548060e-02 -2.38682571e+00 -6.74234333e-01\n",
      " -9.93001588e-02  1.42985940e-01 -7.60557416e-01  3.17711003e-02\n",
      " -6.58604497e-01 -3.00106459e-01  1.62468832e-01 -1.35417786e+00\n",
      " -1.52101507e-01 -3.95461260e-01  1.77656486e+00 -5.39914656e-01\n",
      "  5.56973690e-01 -7.61737875e-01 -1.00030085e+00  1.39321227e+00\n",
      " -8.96949142e-01  6.78638824e-01  9.49123846e-01  1.06407129e+00\n",
      "  7.22867871e-01  3.80067082e-01  1.16008151e-01  1.15730765e+00\n",
      "  6.01839511e-01 -6.46277688e-01 -2.55143176e-01 -2.66030729e-01\n",
      " -8.87503492e-01  4.54512619e-01  3.32127936e-01  1.49319993e+00\n",
      "  1.67579432e-02  1.04139476e+00  1.45907857e+00 -4.64579887e-01\n",
      " -9.56992060e-01  8.16860989e-01 -1.62867922e+00  2.13378947e-02\n",
      "  9.51039524e-01 -6.67840775e-01 -7.30020639e-01  7.89953004e-01\n",
      " -2.13135484e+00 -1.06434529e+00 -2.06111520e+00  1.75173654e+00]\n"
     ]
    },
    {
     "data": {
      "text/plain": [
       "Text(0, 0.5, 'Frequency')"
      ]
     },
     "execution_count": 7,
     "metadata": {},
     "output_type": "execute_result"
    },
    {
     "data": {
      "image/png": "[encoded data removed]",
      "text/plain": [
       "<Figure size 640x480 with 1 Axes>"
      ]
     },
     "metadata": {},
     "output_type": "display_data"
    }
   ],
   "source": [
    "# Compute a histogram\n",
    "# You can edit the number of bins with plt.hist(x = randomvar_a)\n",
    "\n",
    "randomvar_x = np.random.normal(loc=0, scale=1, size=1000)\n",
    "print(randomvar_x)\n",
    "plt.hist(x = randomvar_x)\n",
    "plt.xlabel(\"Variable a\")\n",
    "plt.ylabel(\"Frequency\")"
   ]
  },
  {
   "attachments": {},
   "cell_type": "markdown",
   "metadata": {},
   "source": [
    "<font size = \"5\">\n",
    "\n",
    "Try this again with $size = 100, 1000, 10000$"
   ]
  },
  {
   "cell_type": "code",
   "execution_count": 21,
   "metadata": {},
   "outputs": [],
   "source": [
    "# Write the code for your histogram\n",
    "\n",
    "# Compute a histogram\n",
    "# You can edit the number of bins with plt.hist(x = randomvar_a)\n",
    "\n",
    "\n"
   ]
  },
  {
   "attachments": {},
   "cell_type": "markdown",
   "metadata": {},
   "source": [
    "# <span style=\"color:darkblue\"> Additional Resources </span>\n",
    "\n",
    "<font size=\"5\"> \n",
    "\n",
    "Check out additional examples at:\n",
    "\n",
    "- https://allendowney.github.io/ElementsOfDataScience/03_arrays.html\n",
    "\n",
    "\n"
   ]
  },
  {
   "cell_type": "markdown",
   "metadata": {},
   "source": [
    "<font size = \"20\">\n",
    "\n",
    "asdasd\n"
   ]
  },
  {
   "attachments": {},
   "cell_type": "markdown",
   "metadata": {},
   "source": [
    "# <span style=\"color:darkblue\"> (Optional) Matrix Operations </span>\n",
    "\n",
    "<font size=\"5\"> \n"
   ]
  },
  {
   "attachments": {},
   "cell_type": "markdown",
   "metadata": {},
   "source": [
    "<font size = \"5\">\n",
    "Creating a matrix by stacking different rows\n",
    "\n",
    "$ \\text{ }$\n",
    "\n",
    "$ X = \\begin{pmatrix} 1 & 2 & 3 \\\\ \n",
    "                       0 & 4 & 5 \\\\\n",
    "                       0 & 0 & 6\n",
    "                       \\end{pmatrix} $"
   ]
  },
  {
   "cell_type": "code",
   "execution_count": 15,
   "metadata": {},
   "outputs": [
    {
     "name": "stdout",
     "output_type": "stream",
     "text": [
      "[[1 2 3]\n",
      " [0 4 5]\n",
      " [0 0 6]]\n"
     ]
    }
   ],
   "source": [
    "# Matrices are usually denoted by capital letters\n",
    "# The object [[1,2,3],[4,5,6],[7,8,9]] is a list of lists\n",
    "# It's useful to maintain this notation in the code as well\n",
    "\n",
    "X = np.array([[1,2,3],[0,4,5],[0,0,6]])\n",
    "print(X)"
   ]
  },
  {
   "attachments": {},
   "cell_type": "markdown",
   "metadata": {},
   "source": [
    "<font size = \"5\">\n",
    "Creating a matrix by stacking different columns\n",
    "\n",
    "$ \\text{ } $\n",
    "\n",
    "$ Y = \\begin{pmatrix} 1 & 2 \\\\ 0 & 1 \\\\ 1 & 0 \\end{pmatrix}$"
   ]
  },
  {
   "cell_type": "code",
   "execution_count": 16,
   "metadata": {},
   "outputs": [
    {
     "name": "stdout",
     "output_type": "stream",
     "text": [
      "[[1 2]\n",
      " [0 1]\n",
      " [1 0]]\n"
     ]
    }
   ],
   "source": [
    "# You can also stack columns\n",
    "Y =  np.column_stack([[1,0,1],[2,1,0]])\n",
    "print(Y)"
   ]
  },
  {
   "attachments": {},
   "cell_type": "markdown",
   "metadata": {},
   "source": [
    "<font size = \"5\">\n",
    "Transpose\n",
    "\n",
    "$ \\text{ }$\n",
    "\n",
    "$ Y' = \\begin{pmatrix}  1 & 0 & 1 \\\\ 2 & 1 & 0  \\end{pmatrix} $"
   ]
  },
  {
   "cell_type": "code",
   "execution_count": 18,
   "metadata": {},
   "outputs": [
    {
     "data": {
      "text/plain": [
       "array([[1, 0, 1],\n",
       "       [2, 1, 0]])"
      ]
     },
     "execution_count": 18,
     "metadata": {},
     "output_type": "execute_result"
    }
   ],
   "source": [
    "# Matrix Transpose\n",
    "np.matrix.transpose(Y)"
   ]
  },
  {
   "attachments": {},
   "cell_type": "markdown",
   "metadata": {},
   "source": [
    "<font size = \"5\">\n",
    "\n",
    "Matrix multiplication\n",
    "\n",
    "$ XY = \\begin{pmatrix} 1 & 2 & 3 \\\\ \n",
    "                       0 & 4 & 5 \\\\\n",
    "                       0 & 0 & 6\n",
    "                       \\end{pmatrix}\n",
    "                       \\begin{pmatrix} 1 & 2 \\\\ 0 & 1 \\\\ 1 & 0 \\end{pmatrix} = \n",
    "        \\begin{pmatrix} 4 & 4 \\\\ 5 & 4 \\\\ 6 & 0 \\end{pmatrix} $"
   ]
  },
  {
   "cell_type": "code",
   "execution_count": 19,
   "metadata": {},
   "outputs": [
    {
     "data": {
      "text/plain": [
       "array([[4, 4],\n",
       "       [5, 4],\n",
       "       [6, 0]])"
      ]
     },
     "execution_count": 19,
     "metadata": {},
     "output_type": "execute_result"
    }
   ],
   "source": [
    "# Matrix Multiplication\n",
    "\n",
    "np.dot(X,Y)\n",
    "\n",
    "np.matmul(X,Y)"
   ]
  },
  {
   "attachments": {},
   "cell_type": "markdown",
   "metadata": {},
   "source": [
    "<font size = \"5\">\n",
    "\n",
    "Matrix inverse\n",
    "\n",
    "$ X^{-1} = \\begin{pmatrix} 1 & 2 & 3 \\\\ \n",
    "                       0 & 4 & 5 \\\\\n",
    "                       0 & 0 & 6\n",
    "                       \\end{pmatrix}^{-1} $"
   ]
  },
  {
   "cell_type": "code",
   "execution_count": null,
   "metadata": {},
   "outputs": [],
   "source": [
    "# Check the determinant of a matrix (a matrix is invertible if the determinant is not zero)\n",
    "print(np.linalg.det(X))\n",
    "\n",
    "# Matrix inverse\n",
    "# The following command stands for linear algebrar inverse.\n",
    "X_inv = np.linalg.inv(X)\n",
    "\n",
    "# Output the result\n",
    "print(X_inv)\n"
   ]
  },
  {
   "attachments": {},
   "cell_type": "markdown",
   "metadata": {},
   "source": [
    "<font size = \"5\">\n",
    "\n",
    "Try it yourself! Check that this is indeed an inverse:\n",
    "\n",
    "$X X_{inv} = \\begin{pmatrix} 1 & 0 & 0 \\\\ 0 & 1 & 0 \\\\ 0 & 0 & 1 \\end{pmatrix}$"
   ]
  },
  {
   "cell_type": "code",
   "execution_count": null,
   "metadata": {},
   "outputs": [],
   "source": [
    "# Multiply \"X\" times \"X_inv\" using the command shown above\n",
    "# Note: Sometimes the result is shown in scientific notation.\n",
    "\n",
    "\n",
    "\n"
   ]
  }
 ],
 "metadata": {
  "kernelspec": {
   "display_name": "base",
   "language": "python",
   "name": "python3"
  },
  "language_info": {
   "codemirror_mode": {
    "name": "ipython",
    "version": 3
   },
   "file_extension": ".py",
   "mimetype": "text/x-python",
   "name": "python",
   "nbconvert_exporter": "python",
   "pygments_lexer": "ipython3",
   "version": "3.12.7"
  },
  "orig_nbformat": 4,
  "vscode": {
   "interpreter": {
    "hash": "45fc1f684f6f416f40889115beff3ddf69879b64cf4bfee48cb72a61e9d15d1a"
   }
  }
 },
 "nbformat": 4,
 "nbformat_minor": 2
}
