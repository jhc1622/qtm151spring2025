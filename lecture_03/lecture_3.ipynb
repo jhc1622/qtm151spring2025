{
 "cells": [
  {
   "attachments": {},
   "cell_type": "markdown",
   "metadata": {},
   "source": [
    "# <span style=\"color:darkblue\"> Lecture 3: Mathematical Operations and Random Numbers </span>"
   ]
  },
  {
   "attachments": {},
   "cell_type": "markdown",
   "metadata": {},
   "source": [
    "<font size=\"5\"> \n",
    "\n",
    "In the previous class we:\n",
    "- Introduced lists and variable types\n",
    "- Talked about how to extract elements from a list"
   ]
  },
  {
   "attachments": {},
   "cell_type": "markdown",
   "metadata": {},
   "source": [
    "<font size=\"5\"> \n",
    "\n",
    "In this class we will:\n",
    "\n",
    "- Introduce a library for general mathematical operations\n",
    "- Generate random numbers\n",
    "- (Optional) Matrix operations"
   ]
  },
  {
   "attachments": {},
   "cell_type": "markdown",
   "metadata": {},
   "source": [
    "## <span style=\"color:darkblue\"> I. Import Libraries </span>"
   ]
  },
  {
   "cell_type": "code",
   "execution_count": 53,
   "metadata": {},
   "outputs": [],
   "source": [
    "# the \"numPy\" library is used for mathematical operations\n",
    "# the \"matplotlib\" library is for generating graphs\n",
    "\n",
    "import numpy as np\n",
    "import matplotlib.pyplot as plt\n"
   ]
  },
  {
   "attachments": {},
   "cell_type": "markdown",
   "metadata": {},
   "source": [
    "##  <span style=\"color:darkblue\"> II. Numbers and Functions </span>"
   ]
  },
  {
   "attachments": {},
   "cell_type": "markdown",
   "metadata": {},
   "source": [
    "<font size = \"5\" >\n",
    "Examples of numPy numbers"
   ]
  },
  {
   "cell_type": "code",
   "execution_count": 54,
   "metadata": {},
   "outputs": [
    {
     "data": {
      "text/plain": [
       "3.141592653589793"
      ]
     },
     "execution_count": 54,
     "metadata": {},
     "output_type": "execute_result"
    }
   ],
   "source": [
    "# Computes \"pi\" (3.14...)\n",
    "\n",
    "np.pi"
   ]
  },
  {
   "attachments": {},
   "cell_type": "markdown",
   "metadata": {},
   "source": [
    "<font size = \"5\" >\n",
    "\n",
    "Examples of numPy functions\n",
    "\n",
    "$ ln(x), e^x, sin(x), cos(x), \\sqrt{x}$"
   ]
  },
  {
   "cell_type": "code",
   "execution_count": 55,
   "metadata": {},
   "outputs": [
    {
     "name": "stdout",
     "output_type": "stream",
     "text": [
      "0.0\n",
      "2.718281828459045\n",
      "0.8414709848078965\n",
      "0.5403023058681398\n",
      "1.0\n",
      "6.6332495807108\n"
     ]
    }
   ],
   "source": [
    "# log(x) computes the logarithm with base \"e\" (Euler constant)\n",
    "# exp(x) compute the Euler constant raised to the power of \"x\"\n",
    "# sing(x) computes the sine of x\n",
    "# cos(x) computes the cosine of x\n",
    "# In this example, we're substituting x = 1\n",
    "\n",
    "print(np.log(1))\n",
    "print(np.exp(1))\n",
    "print(np.sin(1))\n",
    "print(np.cos(1))\n",
    "print(np.sqrt(1))\n",
    "\n",
    "print(np.sqrt(44))"
   ]
  },
  {
   "cell_type": "markdown",
   "metadata": {},
   "source": [
    "<font size = \"5\">\n",
    "\n",
    "Raising to the power of a number\n",
    "\n",
    "$ x^5 $"
   ]
  },
  {
   "cell_type": "code",
   "execution_count": 56,
   "metadata": {},
   "outputs": [
    {
     "data": {
      "text/plain": [
       "100000"
      ]
     },
     "execution_count": 56,
     "metadata": {},
     "output_type": "execute_result"
    }
   ],
   "source": [
    "x = 10\n",
    "x ** 5\n",
    "\n",
    "# Not x^5"
   ]
  },
  {
   "attachments": {},
   "cell_type": "markdown",
   "metadata": {},
   "source": [
    "<font size = \"5\">\n",
    "\n",
    "Try it yourself!\n",
    "\n",
    "- Create a new variable, $x = 5$\n",
    "- Compute $\\pi x^2$\n",
    "- Compute $ \\frac{1}{\\sqrt{2\\pi}}e^{-x^2} $"
   ]
  },
  {
   "cell_type": "code",
   "execution_count": 59,
   "metadata": {},
   "outputs": [
    {
     "name": "stdout",
     "output_type": "stream",
     "text": [
      "78.53981633974483\n",
      "5.540487995575841e-12\n"
     ]
    }
   ],
   "source": [
    "# Write your own code\n",
    "x = 5\n",
    "print(np.pi * (x**2))\n",
    "print((1/(np.sqrt(2*np.pi)))*(np.e ** (-x**2)))\n",
    "\n",
    "\n"
   ]
  },
  {
   "attachments": {},
   "cell_type": "markdown",
   "metadata": {},
   "source": [
    "##  <span style=\"color:darkblue\"> III. Vector Arrays </span>"
   ]
  },
  {
   "attachments": {},
   "cell_type": "markdown",
   "metadata": {},
   "source": [
    "<font size = \"5\">\n",
    "Create an array from a list\n",
    "\n",
    "$ \\text{ }$\n",
    "$ a = \\begin{pmatrix} 1 \\\\ 2 \\\\ 3 \\end{pmatrix}\n",
    "\\qquad b = \\begin{pmatrix} 0 \\\\ 1 \\\\ 0\\end{pmatrix}\n",
    "\\qquad c = \\begin{pmatrix} 10 \\\\ 100 \\\\ 1000 \\\\ 2000 \\\\ 5000 \\end{pmatrix} \n",
    "\\qquad d = \\begin{pmatrix} 4 \\\\ 2 \\end{pmatrix} $"
   ]
  },
  {
   "cell_type": "code",
   "execution_count": 60,
   "metadata": {},
   "outputs": [
    {
     "name": "stdout",
     "output_type": "stream",
     "text": [
      "[1 2 3]\n",
      "[0 1 0]\n",
      "[  10  100 1000 2000 5000]\n"
     ]
    }
   ],
   "source": [
    "# You create an array by converting a list [1,2,3] to a numeric object\n",
    "# \"array\" is a subfunction of the library numPy.\n",
    "\n",
    "vec_a  = np.array([1,2,3])\n",
    "vec_b  = np.array([0,1,0])\n",
    "vec_c  = np.array([10,100,1000,2000,5000 ])\n",
    "\n",
    "print(vec_a)\n",
    "print(vec_b)\n",
    "print(vec_c)"
   ]
  },
  {
   "attachments": {},
   "cell_type": "markdown",
   "metadata": {},
   "source": [
    "<font size = \"5\">\n",
    "\n",
    "Accessing an element of an array"
   ]
  },
  {
   "cell_type": "code",
   "execution_count": 61,
   "metadata": {},
   "outputs": [
    {
     "name": "stdout",
     "output_type": "stream",
     "text": [
      "1\n",
      "3\n"
     ]
    }
   ],
   "source": [
    "# Arrays, like lists, start their numbering at zero.\n",
    "# You also access them with square brackets\n",
    "\n",
    "print(vec_a[0])\n",
    "print(vec_a[2])\n"
   ]
  },
  {
   "attachments": {},
   "cell_type": "markdown",
   "metadata": {},
   "source": [
    "<font size = \"5\">\n",
    "Operations with a single array and a scalar"
   ]
  },
  {
   "attachments": {},
   "cell_type": "markdown",
   "metadata": {},
   "source": [
    "<font size = \"5\">\n",
    "\n",
    "$ a + 2 = \\begin{pmatrix} a_1 + 2 \\\\ a_2 + 2 \\\\ a_3 + 2 \\end{pmatrix}$"
   ]
  },
  {
   "cell_type": "code",
   "execution_count": 62,
   "metadata": {},
   "outputs": [
    {
     "name": "stdout",
     "output_type": "stream",
     "text": [
      "[2 4 6]\n",
      "[0.5 1.  1.5]\n",
      "[3 4 5]\n",
      "[1 4 9]\n"
     ]
    }
   ],
   "source": [
    "# A scalar refers to either an int or float\n",
    "# We can do many common operations with \n",
    "\n",
    "print(vec_a * 2)\n",
    "print(vec_a / 2)\n",
    "print(vec_a + 2)\n",
    "print(vec_a ** 2)"
   ]
  },
  {
   "attachments": {},
   "cell_type": "markdown",
   "metadata": {},
   "source": [
    "<font size = \"5\">\n",
    "Element-by-element addition between two arrays of the same size\n",
    "\n",
    "$\\text{ }$\n",
    "\n",
    "$ a + b = \\begin{pmatrix} a_1 \\\\ a_2 \\\\ a_3 \\end{pmatrix} +\n",
    "          \\begin{pmatrix} b_1 \\\\ b_2 \\\\ b_3 \\end{pmatrix} =\n",
    "          \\begin{pmatrix} a_1 + b_1 \\\\ a_2 + b_2 \\\\ a_3 + b_3 \\end{pmatrix}$"
   ]
  },
  {
   "cell_type": "code",
   "execution_count": 64,
   "metadata": {},
   "outputs": [
    {
     "name": "stdout",
     "output_type": "stream",
     "text": [
      "[1 2 3]\n",
      "[0 1 0]\n",
      "[1 3 3]\n"
     ]
    }
   ],
   "source": [
    "print(vec_a)\n",
    "print(vec_b)\n",
    "print(vec_a + vec_b)  # a1 + b1, a2 + b2, a3 + b3"
   ]
  },
  {
   "cell_type": "code",
   "execution_count": 65,
   "metadata": {},
   "outputs": [
    {
     "name": "stdout",
     "output_type": "stream",
     "text": [
      "[1 3 3]\n"
     ]
    }
   ],
   "source": [
    "# When you add two arrays of the same size,\n",
    "# Python adds the individual elements in each position\n",
    "\n",
    "print(vec_a + vec_b)\n"
   ]
  },
  {
   "attachments": {},
   "cell_type": "markdown",
   "metadata": {},
   "source": [
    "<font size =\"5\">\n",
    "\n",
    "The default multiplication option is element-by element:\n",
    "\n",
    "$ a * b = \\begin{pmatrix} a_1 * b_1 \\\\ a_2 * b_2 \\\\ a_3 * b_3 \\end{pmatrix}$"
   ]
  },
  {
   "cell_type": "code",
   "execution_count": 66,
   "metadata": {},
   "outputs": [
    {
     "name": "stdout",
     "output_type": "stream",
     "text": [
      "[0 2 0]\n",
      "[1 1 3]\n",
      "[inf  2. inf]\n"
     ]
    },
    {
     "name": "stderr",
     "output_type": "stream",
     "text": [
      "/var/folders/dt/k49s8y5n3jq_x0lrs9vgsmqh0000gn/T/ipykernel_76249/3839639845.py:6: RuntimeWarning: divide by zero encountered in divide\n",
      "  print(vec_a / vec_b)\n"
     ]
    }
   ],
   "source": [
    "# We can do other similar element-by-element operations\n",
    "# such as multiplication, subtraction, and division.\n",
    "\n",
    "print(vec_a * vec_b)\n",
    "print(vec_a - vec_b)\n",
    "print(vec_a / vec_b)\n"
   ]
  },
  {
   "attachments": {},
   "cell_type": "markdown",
   "metadata": {},
   "source": [
    "<font size = \"5\">\n",
    "Summary statistics of an array"
   ]
  },
  {
   "cell_type": "code",
   "execution_count": 67,
   "metadata": {},
   "outputs": [
    {
     "name": "stdout",
     "output_type": "stream",
     "text": [
      "2.0\n",
      "0.816496580927726\n",
      "1\n",
      "2.0\n",
      "3\n"
     ]
    }
   ],
   "source": [
    "# The function np.mean() computes the mean of an array\n",
    "# We can do similar operations for the standard deviation (std),\n",
    "# the minimum (min), the median (median), and the maximum (max).\n",
    "\n",
    "print(np.mean(vec_a))\n",
    "print(np.std(vec_a))\n",
    "print(np.min(vec_a))\n",
    "print(np.median(vec_a))\n",
    "print(np.max(vec_a))"
   ]
  },
  {
   "attachments": {},
   "cell_type": "markdown",
   "metadata": {},
   "source": [
    "<font size = \"5\">\n",
    "\n",
    "Try it yourself! Compute the mean of\n",
    "\n",
    "\n",
    "$ e = \\begin{pmatrix} 10 \\\\ 8 \\\\ 15 \\\\ 0 \\\\ 24 \\end{pmatrix} $"
   ]
  },
  {
   "cell_type": "code",
   "execution_count": 68,
   "metadata": {},
   "outputs": [
    {
     "name": "stdout",
     "output_type": "stream",
     "text": [
      "11.4\n",
      "10.0\n"
     ]
    }
   ],
   "source": [
    "# Create your own array and compute any of the above summary statistics\n",
    "\n",
    "e = np.array( [10,8,15,0,24] )\n",
    "\n",
    "print(np.mean(e))\n",
    "print(np.median(e))\n",
    "\n",
    "\n"
   ]
  },
  {
   "attachments": {},
   "cell_type": "markdown",
   "metadata": {},
   "source": [
    "<font size = \"5\">\n",
    "<span style=\"color:red\"> Common Pitfall </span>: Make sure that the arrays have the same size"
   ]
  },
  {
   "cell_type": "code",
   "execution_count": 70,
   "metadata": {},
   "outputs": [
    {
     "name": "stdout",
     "output_type": "stream",
     "text": [
      "[1 2 3]\n",
      "[  10  100 1000 2000 5000]\n"
     ]
    }
   ],
   "source": [
    "print(vec_a)\n",
    "print(vec_c)"
   ]
  },
  {
   "cell_type": "code",
   "execution_count": 71,
   "metadata": {},
   "outputs": [
    {
     "name": "stdout",
     "output_type": "stream",
     "text": [
      "(3,)\n",
      "(5,)\n"
     ]
    }
   ],
   "source": [
    "print(vec_a.shape)\n",
    "print(vec_c.shape)"
   ]
  },
  {
   "cell_type": "code",
   "execution_count": 72,
   "metadata": {},
   "outputs": [
    {
     "data": {
      "text/plain": [
       "101"
      ]
     },
     "execution_count": 72,
     "metadata": {},
     "output_type": "execute_result"
    }
   ],
   "source": [
    "# Here I try to combine two arrays of different size.\n",
    "\n",
    "vec_a[0] + vec_c[1]"
   ]
  },
  {
   "attachments": {},
   "cell_type": "markdown",
   "metadata": {},
   "source": [
    "##  <span style=\"color:darkblue\"> IV. Random Numbers </span>\n",
    "\n",
    "<font size = \"5\">\n",
    "\n",
    "Why randomness?\n",
    "\n",
    "- Simulate different scenarios: high risk or low risk\n",
    "- Study properties of a complex system and/or estimator\n",
    "- In medicine, randomly assign subjects to treatment or control"
   ]
  },
  {
   "attachments": {},
   "cell_type": "markdown",
   "metadata": {},
   "source": [
    "<font size = \"5\">\n",
    "\n",
    "Create a vector of random variables"
   ]
  },
  {
   "cell_type": "code",
   "execution_count": 73,
   "metadata": {},
   "outputs": [
    {
     "name": "stdout",
     "output_type": "stream",
     "text": [
      "[ 0.6790245  -0.64662738  0.92669872 -0.320275   -0.19668955  0.35392463\n",
      "  1.27572866 -1.49469727  0.09808889 -0.95510361]\n",
      "-0.19668954989209353\n"
     ]
    }
   ],
   "source": [
    "# This code creates a vector of random variables \n",
    "# generated from a normal distribution with\n",
    "# mean \"loc\" (location) and standard deviation \"scale\"\n",
    "# the number of distinct variabels is \"size\"\n",
    "\n",
    "randomvar_a = np.random.normal(loc=0, scale=1, size=10)\n",
    "print(randomvar_a)\n",
    "print(randomvar_a[4])"
   ]
  },
  {
   "attachments": {},
   "cell_type": "markdown",
   "metadata": {},
   "source": [
    "<font size = \"5\">\n",
    "\n",
    "Random numbers differ every time!\n",
    "\n",
    "- Avoid this problem by drawing from a \"pregenerated\" set.\n",
    "- This is called a seed"
   ]
  },
  {
   "cell_type": "code",
   "execution_count": 76,
   "metadata": {},
   "outputs": [
    {
     "name": "stdout",
     "output_type": "stream",
     "text": [
      "[-0.33101264 -0.438638   -0.75090825 -0.36108372  0.46834289 -0.11326744\n",
      " -0.04432165 -2.45982754  1.77349369  1.09337644]\n"
     ]
    }
   ],
   "source": [
    "# Your computer will typically generate different numbers every time you run a command\n",
    "# However, sometimes you want to be able to replicate the results\n",
    "# You can choose any other number instead of \"12345\". This will produce another set\n",
    "# of random numbers, but they will give the same answers\n",
    "\n",
    "np.random.seed(103931)\n",
    "\n",
    "random_var_b = np.random.normal(loc=0, scale=1, size=10)\n",
    "print(random_var_b)"
   ]
  },
  {
   "attachments": {},
   "cell_type": "markdown",
   "metadata": {},
   "source": [
    "<font size = \"5\">\n",
    "\n",
    "Compute a histogram with the results"
   ]
  },
  {
   "cell_type": "code",
   "execution_count": 77,
   "metadata": {},
   "outputs": [
    {
     "name": "stdout",
     "output_type": "stream",
     "text": [
      "[ 9.24637068e-01 -1.43019417e+00 -1.51887009e+00 -5.97696449e-02\n",
      " -1.12599348e+00  4.41698801e-01 -3.52153805e-01  1.29296308e+00\n",
      " -7.83919382e-01 -7.89100073e-02 -1.51788872e+00 -7.87253497e-01\n",
      " -1.96819465e-02 -1.34632928e-01 -1.61913495e+00 -4.38464442e-01\n",
      " -1.54226656e+00  4.18721265e-01 -1.96641966e-01 -7.94051835e-01\n",
      " -8.17710524e-01  1.01923046e-01 -5.16470626e-01 -5.31469751e-01\n",
      "  1.85116618e-01 -3.12948079e-01 -4.83866214e-01  1.88640615e-01\n",
      " -7.23612939e-01  1.98869404e-01  1.49077734e+00 -1.35153042e-01\n",
      "  4.42149155e-02 -4.74545412e-01  2.81521292e-01 -6.46458051e-01\n",
      "  2.43244902e+00 -7.31436345e-01 -2.39119769e+00 -7.38353719e-01\n",
      " -1.16442045e+00 -2.11257234e-01 -1.44817720e-01 -7.64053171e-01\n",
      "  1.37897962e+00 -1.48261240e+00 -2.44450024e-01  2.09640355e+00\n",
      " -1.62595583e+00  7.24543473e-01 -2.93960557e-01 -1.07186807e-01\n",
      " -8.49999998e-01 -2.79913022e-01  1.10666120e+00 -2.78090099e-01\n",
      "  1.11417755e+00 -3.20566859e-01  1.77416748e-01  2.06646376e-01\n",
      "  7.06913669e-01  1.25475508e+00 -7.16904587e-01 -6.32552751e-02\n",
      " -1.28266884e-01 -5.13319563e-01  4.30177343e-01 -1.29952036e+00\n",
      " -5.98404787e-01 -7.29782649e-01 -1.68457334e+00  7.51114192e-01\n",
      " -1.48299235e+00  5.58877588e-01 -3.40270366e-01 -7.53529646e-01\n",
      " -3.10594494e-01  7.51360905e-01 -4.13358754e-01 -7.82368230e-01\n",
      " -5.46835330e-01 -8.25645274e-02  8.50360137e-01  6.58492172e-01\n",
      " -5.48786995e-01 -3.56427489e-01 -1.03255377e+00 -2.56337678e-01\n",
      "  4.21922169e-02 -4.36763112e-01  4.71385232e-01 -4.93232706e-01\n",
      " -1.19527969e+00  5.78738807e-01  3.47871464e-01 -1.21163029e+00\n",
      " -4.58660876e-01 -9.61980198e-02 -1.86550061e-01  4.11299382e-01\n",
      " -4.80696170e-01  1.74912143e+00 -2.00421814e-01  4.57063688e-02\n",
      "  8.64085528e-01 -1.82295222e+00  1.74277047e+00 -1.73272714e-01\n",
      " -1.69472840e-01 -3.10491686e-01 -2.00580572e-02  7.04305684e-01\n",
      " -9.24712566e-01  1.14055437e+00 -4.73603222e-01 -2.53367155e-01\n",
      " -1.58452957e-01 -1.22199907e-01  7.46751097e-01  5.38024158e-01\n",
      "  1.58209981e+00  6.53361270e-02  2.56431715e-01  5.40996882e-01\n",
      "  4.17567573e-01  7.19513007e-01  7.92486933e-01 -9.41863075e-01\n",
      " -9.09397166e-02 -1.13046222e-01 -9.16804529e-01 -9.39387721e-01\n",
      "  1.34195374e-01 -1.68191619e+00  5.42496557e-01  1.03178217e+00\n",
      "  1.63188010e+00 -2.55092891e-01  2.50421543e-01 -4.03348546e-04\n",
      "  2.05703305e-01  1.52920133e+00  7.84278974e-01 -3.36988097e-01\n",
      "  1.15922853e+00  1.06342488e+00 -8.00104489e-01  1.58530442e+00\n",
      "  1.07113364e+00 -4.21632326e-01 -2.15539908e-01 -5.13320445e-01\n",
      " -1.08360557e+00  7.80608368e-01 -1.94148099e-02  1.62241099e-01\n",
      " -9.59093835e-01  5.79222076e-01 -6.54967168e-01 -1.66923916e+00\n",
      "  8.90958209e-01  4.33117809e-01  1.69134935e+00  6.78333426e-01\n",
      " -3.24789215e-02 -1.49176747e+00 -1.42636072e+00 -1.29197110e-01\n",
      " -1.27653467e-01 -1.24361832e+00 -2.85467404e-01  1.42862704e+00\n",
      "  1.35632064e-01  1.35318673e+00 -1.20205888e+00 -1.64723405e-01\n",
      "  8.10507784e-02  6.78707887e-01  7.64564634e-02  2.17835652e+00\n",
      " -1.16086962e+00  9.64635071e-01 -1.22864674e+00  4.21462909e-01\n",
      " -1.48350899e+00 -1.83935635e+00 -2.30429670e+00 -1.30251174e+00\n",
      "  3.53048474e-01 -1.00930723e+00 -5.44106902e-01 -4.83701437e-01\n",
      "  6.91724945e-01  1.11889702e+00 -4.36607413e-01  7.93562574e-01\n",
      " -5.72833305e-01  1.73409886e+00  1.10909094e+00 -4.82524938e-01\n",
      "  5.84795993e-01 -1.15037647e+00 -2.36842304e+00  6.75726262e-01\n",
      "  3.92708034e-01  6.74019035e-01 -4.34256470e-02  1.69639309e+00\n",
      " -1.17481289e+00 -6.57677740e-01 -6.71863223e-01 -1.61765115e-01\n",
      " -4.23869291e-01 -1.07877121e-01 -2.98919103e+00  2.51006728e-01\n",
      " -1.05809812e+00  9.70330697e-01 -2.83321864e-01 -2.02778345e-01\n",
      " -1.11188188e+00  1.52339482e-01  6.09856150e-01  3.08504091e-01\n",
      " -6.64625366e-01 -3.73173884e-01  4.44651527e-01  1.97268568e-01\n",
      "  2.65170479e-01  3.16277952e-02  4.92361141e-01  1.18596557e+00\n",
      "  7.56495225e-02 -1.08629186e-01 -1.30727296e+00  3.16404572e-01\n",
      " -4.83746627e-01  1.51033165e-01  4.00430148e-01 -8.87755406e-01\n",
      " -5.75060777e-01 -4.01331212e-01 -1.28835191e+00 -1.69750671e+00\n",
      "  1.24311994e+00 -3.46870602e-01 -7.06895507e-01 -1.08190205e-01\n",
      " -1.50468652e+00 -5.95885542e-01 -1.85904990e-01 -8.42577550e-01\n",
      " -1.28288800e+00  2.55883788e-01 -5.17368463e-01  3.52460274e-01\n",
      "  7.14005357e-01 -6.32525801e-01  1.46658958e+00  5.18368673e-02\n",
      "  1.02602921e-01  4.61532077e-01  7.72502592e-01 -6.31689058e-01\n",
      " -3.50754265e-01  9.71290203e-01  1.75374557e+00 -9.73713657e-01\n",
      " -3.97624351e-01  1.09550713e+00 -5.97857387e-01 -5.19953594e-01\n",
      " -6.75882073e-01 -1.81764494e+00  6.23868044e-01 -6.49229718e-01\n",
      "  4.23919388e-01  2.39707024e+00  9.93002417e-02 -1.65146961e-01\n",
      " -5.17220391e-01 -1.99026652e-01 -6.53960932e-01 -8.82524332e-01\n",
      "  4.13740428e-01 -3.07371496e-01 -4.80757277e-02  1.27092438e+00\n",
      "  2.63445723e-01 -1.76883768e+00 -9.97190253e-01 -8.77464810e-02\n",
      "  8.03011939e-01 -1.21850642e+00 -8.71394822e-01  6.01624034e-03\n",
      "  7.25968835e-01  2.16839370e-01 -4.02184153e-01 -5.84534719e-01\n",
      " -6.51804200e-01  7.72011940e-01  8.03899468e-01  2.42310742e+00\n",
      " -1.10376320e+00  3.75009019e-01  1.65247390e-01  2.84802963e-01\n",
      " -3.53168679e-01 -7.78591661e-01 -5.13496975e-01  3.16384228e-01\n",
      "  6.12579115e-01 -4.90006330e-01  8.68750004e-01 -6.94879312e-01\n",
      " -2.25820283e-01  5.30952978e-01 -1.89954368e-01  2.38478383e-03\n",
      " -1.18709211e+00 -3.05661330e-01  1.49677285e+00 -1.72652436e-01\n",
      "  1.48843130e+00 -1.17157797e+00  1.05613789e+00 -1.11004131e+00\n",
      "  6.17514828e-01 -1.43122669e+00  4.91660470e-01 -3.70167689e-01\n",
      "  2.62209325e-01 -1.76040943e-01 -8.55198760e-02 -7.76799715e-01\n",
      " -3.98501284e-01  1.41229847e-01  1.70770884e+00 -2.61545459e-01\n",
      "  1.11773267e+00  1.88098070e+00 -7.04909523e-01 -5.26530316e-01\n",
      "  1.24386895e-02 -3.10743396e-01  9.05451728e-01  2.07378243e+00\n",
      " -1.21148255e+00  7.05068245e-01  1.30657152e+00 -5.62847978e-01\n",
      "  1.77462343e-01 -1.40860165e+00  2.60617818e-01 -9.07117307e-01\n",
      "  1.22913038e+00  1.62244475e+00 -7.84808365e-01  2.23811120e-01\n",
      "  1.12248604e-02  1.47279702e-01 -1.33474283e-02 -1.62819729e-01\n",
      " -1.86812578e+00 -5.80153389e-01  4.81300657e-01 -1.01466641e+00\n",
      " -1.51351310e+00  4.39409982e-01  6.46953784e-01  4.46660472e-01\n",
      "  6.53318478e-01  5.99242337e-01 -1.08451968e+00 -1.10065059e-01\n",
      "  6.81768352e-01  6.52159613e-01 -6.02422613e-01 -4.37753752e-01\n",
      " -7.43775065e-01  1.34385151e+00 -2.51652979e-01 -8.21253276e-01\n",
      "  7.23464120e-01 -5.30523668e-01 -1.44392162e+00 -5.75981627e-01\n",
      "  1.51140917e+00 -3.63834248e-01  1.65657158e-01 -5.67530004e-02\n",
      "  7.82587910e-01  4.17541907e-01 -5.23130935e-02  3.70526231e-01\n",
      " -3.00395357e-01  5.98954689e-01 -2.49209262e-01 -3.51680724e-01\n",
      " -1.40403437e-02  7.71590178e-01 -1.48578857e-01 -2.55595467e-01\n",
      "  2.70892293e-01  4.41514813e-01 -1.65723404e+00  1.75515086e+00\n",
      "  1.91917083e+00  1.14883250e+00 -1.67018714e+00  1.39361603e-01\n",
      " -4.05376291e-01  2.52403167e-01 -7.86952391e-01  8.77547426e-01\n",
      "  1.61554240e-02 -4.13104590e-01 -7.69326250e-01  2.41074261e-01\n",
      "  8.17528096e-01 -1.63896384e+00  8.81926022e-01 -8.24595201e-01\n",
      " -7.66715081e-02 -3.05914158e-01 -2.72799415e-01 -6.90754905e-02\n",
      "  1.50107654e+00  8.91127629e-01 -8.64277633e-01 -1.27938893e+00\n",
      "  7.25279665e-02 -1.09187266e+00  5.11117294e-01  3.93978892e-01\n",
      "  3.82982752e-01 -1.53568897e-01  1.72771372e+00  4.77700643e-01\n",
      "  4.50596640e-01  2.46399654e-01 -1.19482690e+00 -7.15476016e-01\n",
      " -8.56202558e-01 -5.10675091e-01  4.24799273e-01  6.17417674e-01\n",
      " -5.46953744e-01  1.65543732e+00 -8.42921180e-01 -5.82894977e-01\n",
      " -1.40084940e+00  1.03512095e+00 -1.07572008e+00 -6.14585965e-01\n",
      " -3.24060145e-01 -1.07454510e-01  1.72288886e+00  6.82004163e-01\n",
      " -1.36075607e+00  2.39382674e+00 -8.38959295e-01  1.11093125e-01\n",
      " -7.50754790e-01  7.23704635e-01 -7.74834149e-02  7.42553430e-02\n",
      "  7.91242320e-01  8.26274398e-01 -1.72637338e+00  4.08488662e-01\n",
      " -1.51669723e+00  3.27519448e-01 -3.89504505e-01  7.60247773e-01\n",
      " -4.20436444e-02  1.70094204e+00  8.45818841e-03  9.67330678e-01\n",
      " -8.32019436e-01 -5.40859963e-01 -6.90596380e-01 -2.62255793e+00\n",
      "  1.63485981e+00  4.20799593e-01  9.32485789e-01 -6.65931890e-01\n",
      " -1.91097920e-01 -9.67394724e-01  2.16405813e-01  9.46741399e-01\n",
      "  2.27859333e+00 -1.08401754e+00 -4.98606511e-02  4.70389642e-01\n",
      " -1.09016647e+00 -4.86215662e-01 -2.60301075e+00 -1.31666528e-01\n",
      " -8.35860936e-01 -5.57608197e-01  8.29361419e-01  4.18662729e-01\n",
      "  1.50356120e-01  2.21250028e-01 -1.26761955e+00  1.75501962e-01\n",
      "  1.64013760e+00  1.58516285e+00 -9.20171518e-01  5.15794876e-01\n",
      "  5.50501044e-01 -3.35561009e-01 -8.75002324e-01  7.45278595e-01\n",
      " -1.38341532e+00  6.93200935e-01  2.25112281e+00 -3.52571211e-01\n",
      " -5.81997025e-01  4.62515990e-01  1.54494596e+00 -1.13768328e+00\n",
      " -1.20571296e+00 -5.02371745e-01 -5.88256166e-01  7.73829632e-01\n",
      " -3.90476330e-01 -4.25266743e-02 -1.70387368e+00  3.16194623e-02\n",
      " -1.79108732e-01  2.47867138e-01 -4.87040698e-01 -7.99804543e-01\n",
      "  9.88426282e-01 -4.58902928e-01 -8.21769315e-01 -2.86283340e-01\n",
      "  4.32426317e-01  2.35410562e+00 -6.34924488e-01  2.06990087e-02\n",
      " -8.17208677e-01  1.80876847e+00 -5.53234601e-01  4.92194280e-02\n",
      "  7.27438109e-01  6.87716869e-01 -5.55599328e-01  2.94520795e-03\n",
      " -9.15353781e-01  1.24415172e+00 -1.58537881e-01  1.46209699e+00\n",
      "  9.91587386e-01  6.49663291e-01  2.62995382e-01 -4.41925221e-01\n",
      "  7.77799434e-01 -6.32759077e-01  1.45342607e+00  4.93203170e-01\n",
      "  2.68976358e-01 -1.01335114e-01  1.00027327e+00  7.62267497e-01\n",
      "  1.25869792e+00 -3.84355958e-01  5.84352944e-01 -7.42852856e-01\n",
      " -1.13730169e-01  1.17590708e+00  4.34345021e-01 -8.31216128e-01\n",
      "  2.46894306e+00 -8.06749329e-02 -1.23894582e+00 -1.23185523e+00\n",
      "  1.15952774e+00 -1.14588287e+00 -1.30201287e+00 -6.28972942e-01\n",
      " -1.36195204e+00 -8.88186341e-01  6.38242838e-01 -1.31457024e+00\n",
      "  8.57273879e-01  4.84379952e-01  5.82004231e-01 -3.96099535e-01\n",
      " -6.44361796e-01 -2.38324726e-02  1.46946532e+00 -6.86963871e-01\n",
      " -1.92180513e+00 -8.39146042e-01 -1.99493507e+00 -1.56499558e+00\n",
      " -7.63660487e-01  5.75430864e-01 -9.70966159e-01  1.53694134e+00\n",
      " -8.35147170e-01  1.25320794e-01  7.76209382e-01  9.43607328e-01\n",
      "  1.57755880e+00 -4.64013741e-01  1.42045112e+00 -4.99746738e-01\n",
      "  1.33410808e-01 -1.42116128e+00  1.16188352e-01  1.49723422e+00\n",
      "  8.41073070e-01  2.45834919e+00 -2.79915574e+00 -1.42041386e-01\n",
      " -9.01226355e-01 -8.70114457e-01  7.59604097e-01  2.51772782e-01\n",
      " -2.88706194e-02 -1.14643587e+00 -8.74496228e-01  1.38611663e+00\n",
      " -4.14757121e-01 -1.45957753e+00  1.90456742e+00 -2.48017653e-01\n",
      " -2.41330105e-01 -2.10166799e+00  8.65250121e-01  3.01364968e-01\n",
      " -9.77512992e-01  4.85836153e-01  5.51939391e-01 -4.63417362e-01\n",
      "  4.34399597e-01  2.79128397e-01  1.13728959e-01 -6.04988625e-01\n",
      " -1.95174236e-01  2.51618704e-01  5.15116535e-01  2.67113412e+00\n",
      "  6.93688780e-01  8.79456667e-01 -9.03786674e-01  4.58521794e-01\n",
      " -3.99359460e-01  2.35661169e+00  1.06033642e+00  1.65813780e+00\n",
      "  6.60689316e-01  1.10950085e+00 -1.15527277e+00  9.86681659e-01\n",
      "  2.54230007e-01  7.66762216e-01 -1.59660235e+00  1.29026773e+00\n",
      "  9.55506154e-01 -1.31873156e+00 -8.66444538e-01 -1.57078429e+00\n",
      " -1.43336358e+00  6.08206867e-01  4.21479051e-01  1.56158586e-01\n",
      "  1.89265317e+00 -1.62625306e+00  2.32641579e-01 -4.94834893e-01\n",
      "  7.66792727e-01 -6.50188713e-01  8.61845691e-01 -2.28573934e+00\n",
      " -5.64250060e-01 -9.73344719e-01  7.81847759e-02 -4.65464140e-01\n",
      "  5.22207068e-01 -5.31991070e-01  6.23892370e-01  1.49682215e+00\n",
      " -1.10071381e-01  1.12260527e+00 -9.68268650e-01 -1.51803382e+00\n",
      " -5.93398433e-01 -8.45917055e-01 -8.92494607e-01  5.98919071e-01\n",
      "  5.43138030e-01 -4.58209704e-01  1.33524373e-01  7.23170727e-01\n",
      " -1.48264169e+00 -2.07711485e+00  4.12641459e-01 -2.17231814e-01\n",
      "  2.12089292e+00  1.06921851e+00  5.75732062e-01  1.38655124e+00\n",
      " -2.12525005e-01  2.02478098e-02 -6.24643367e-01  9.42824633e-01\n",
      " -5.94769251e-01 -9.98894449e-01  1.58295539e+00  1.17344433e+00\n",
      " -1.13225810e+00 -3.93344501e-01  7.34737948e-02  1.60794700e-02\n",
      "  5.81599213e-01  1.77225767e+00  5.45159831e-01  2.59981134e-01\n",
      " -7.66875239e-01 -3.55342940e-01  6.86791457e-01 -2.93537212e-02\n",
      "  1.11073393e+00 -8.81907557e-01  2.54579539e-01  6.65688910e-01\n",
      "  5.05195662e-01  2.93756075e-01 -1.09334937e+00  4.49683221e-01\n",
      "  7.08328934e-01  7.41673992e-01 -5.24828326e-01  4.20762400e-02\n",
      " -9.62337734e-01  3.34513658e-01 -5.03385754e-01  1.12746358e+00\n",
      " -3.08803916e-01 -2.96451836e-01 -2.81784066e-01 -1.18956328e+00\n",
      "  7.10881937e-01 -1.64528406e+00  1.53544529e+00  4.35199719e-01\n",
      " -1.59369278e+00 -4.49782918e-01 -2.59651624e-01 -9.43166669e-02\n",
      " -2.20869576e-01  8.48857797e-01  1.44173018e+00  2.81235236e+00\n",
      "  4.96611883e-01 -9.66736514e-01  1.86295906e+00  3.76596834e-01\n",
      " -1.86238658e-01  8.25818829e-01 -1.09878687e+00  5.47578648e-01\n",
      "  1.59708086e+00  1.21090593e+00 -1.55467994e+00 -2.97292921e+00\n",
      "  2.52598133e+00  9.96821909e-01  3.20720902e-01  1.26549669e+00\n",
      "  9.24758037e-01  7.31295127e-01 -8.42416907e-02 -1.34508807e+00\n",
      "  2.84597398e-01 -1.87351090e+00  3.08025045e-01  1.70570641e-01\n",
      "  1.49414655e+00  3.41066677e-01  2.66894578e-02 -8.64502375e-01\n",
      " -7.04726699e-01 -1.17874746e+00  3.21812125e-01  9.80789337e-01\n",
      " -6.20863436e-01  8.60983905e-02 -5.10550955e-02 -9.70451890e-01\n",
      "  1.41138420e+00  1.31207094e-01  9.62192075e-02  2.98310148e-01\n",
      "  7.61757535e-01 -1.84153944e+00  8.38165941e-02  7.78725209e-01\n",
      "  8.49374692e-01 -2.45582330e+00 -8.13829672e-01 -1.66614250e-01\n",
      "  5.29061141e-01  5.87751453e-01 -5.56386439e-01  5.16301552e-01\n",
      " -7.17404770e-01  2.16472912e+00  1.34809457e+00 -1.74203067e+00\n",
      "  6.30167132e-02 -1.04884096e+00 -1.03364439e+00  1.74381092e+00\n",
      "  5.10873072e-01 -8.39690326e-02 -1.46142380e-02  9.13718763e-01\n",
      " -2.27332858e-01  9.23911522e-01  2.39402385e-01 -1.90762654e-01\n",
      " -5.05690811e-01  1.95833680e+00 -7.63550088e-01  9.67949247e-01\n",
      " -5.52316528e-01  7.96027652e-01 -1.40733337e+00  1.74920558e+00\n",
      " -6.84190806e-02  1.51024852e+00 -2.08453912e-01 -2.33081315e-01\n",
      " -1.20346425e+00  3.17376579e-01  1.31970829e+00 -1.19158599e+00\n",
      "  4.57178413e-01  6.61953504e-01 -1.44005103e+00 -2.29119654e+00\n",
      "  7.89861284e-01  1.37286454e+00  1.12528741e+00  9.27645910e-01\n",
      "  8.53424689e-01 -1.44722473e-01 -5.38696117e-01 -3.60993505e-01\n",
      " -1.28217405e+00 -4.23512350e-01  7.05988599e-01 -1.04768702e+00\n",
      "  5.72237483e-01 -1.03448097e-01 -3.87997090e-01 -1.48366056e+00\n",
      " -2.15494798e+00 -7.61418915e-01 -1.90418740e+00  4.10495439e-01\n",
      " -4.71288241e-01  1.77063332e+00 -1.68097177e+00 -1.37795055e+00\n",
      "  4.73104414e-01 -9.36998004e-01 -1.20314617e-01 -9.82933428e-01\n",
      " -4.13702456e-01 -5.73625141e-01 -5.18189394e-01 -1.85286974e+00\n",
      " -1.05094906e+00 -2.52802482e-01 -2.16212116e+00  6.06619420e-01\n",
      " -1.00761453e+00 -2.70697301e-01 -8.81635964e-01 -8.28280435e-01\n",
      "  6.62185046e-01  1.25661075e+00 -2.17616033e-01  1.90746763e+00\n",
      "  1.47496604e+00 -6.26551498e-01  1.36172397e+00  1.89872608e-01\n",
      " -4.86494814e-01  1.17940267e+00  7.24750343e-01 -3.57459531e-01\n",
      "  9.64921113e-02 -8.60657694e-01  5.29503265e-01  1.47809818e+00\n",
      " -2.05727273e+00  5.25170855e-01  2.19625013e-01  7.08600416e-01\n",
      "  2.23040924e-01 -7.39566945e-02 -8.08248045e-01  1.68562908e-01\n",
      "  4.46323319e-01  6.62489548e-01  2.30773875e-01 -3.35778982e-01\n",
      " -2.98162771e-01  3.93583918e-01  3.33521184e-01 -5.36373580e-01\n",
      "  4.22476308e-01 -1.20058754e+00  6.30414530e-01 -6.66918697e-01\n",
      " -1.67561594e-01 -2.20153667e-05 -2.11852679e+00 -1.94479452e-01\n",
      " -2.26492467e+00 -1.18147811e+00 -5.32470058e-01 -3.77003498e-01\n",
      "  1.87413945e-01 -2.28110159e-01  7.73527043e-01 -5.82968851e-01\n",
      " -1.19087706e+00 -9.87873997e-02  1.54117200e+00  1.41817153e-01\n",
      "  6.61902070e-02 -1.22581452e+00  2.90299250e-01 -1.36274294e+00\n",
      " -2.65571219e-01  7.15012927e-01 -1.01442981e+00 -1.17850638e+00\n",
      " -1.71442490e+00 -1.49071830e-01 -5.94385224e-01 -4.46633947e-01\n",
      " -1.21375173e+00  1.53733935e-01 -1.37500444e+00  1.51904335e+00\n",
      " -6.20433807e-02  2.31651752e-02 -7.66981428e-01  1.86601366e-01\n",
      " -7.94804798e-01 -4.50614400e-01 -8.27730569e-01 -8.66234414e-03\n",
      "  2.68593278e-01 -9.49401566e-02 -1.01940979e+00 -2.04395948e+00\n",
      " -2.74706067e-01 -7.31165886e-01  9.14187397e-01 -3.46866241e-01\n",
      "  9.51496226e-01  1.40138850e+00  1.53878859e-01  1.71609844e+00\n",
      "  2.54768845e-01 -7.35427935e-01  9.74590496e-01  4.09618424e-01\n",
      "  1.26267503e+00  1.71041101e+00 -1.47176978e+00  1.31455952e+00\n",
      "  7.54629191e-01 -1.02859394e+00 -1.83372543e+00  7.41597478e-02\n",
      " -1.28920378e+00 -5.34036808e-01 -1.32595632e+00  1.47659095e+00\n",
      " -3.52087006e+00 -1.49542936e+00 -4.79801194e-01  6.96874550e-02\n",
      " -9.61004799e-01  7.84586132e-01 -9.03319477e-01 -2.39760861e-01]\n"
     ]
    },
    {
     "data": {
      "text/plain": [
       "Text(0, 0.5, 'Frequency')"
      ]
     },
     "execution_count": 77,
     "metadata": {},
     "output_type": "execute_result"
    },
    {
     "data": {
      "image/png": "[encoded data removed]",
      "text/plain": [
       "<Figure size 640x480 with 1 Axes>"
      ]
     },
     "metadata": {},
     "output_type": "display_data"
    }
   ],
   "source": [
    "# Compute a histogram\n",
    "# You can edit the number of bins with plt.hist(x = randomvar_a)\n",
    "\n",
    "randomvar_x = np.random.normal(loc=0, scale=1, size=1000)\n",
    "print(randomvar_x)\n",
    "plt.hist(x = randomvar_x)\n",
    "plt.xlabel(\"Variable a\")\n",
    "plt.ylabel(\"Frequency\")"
   ]
  },
  {
   "attachments": {},
   "cell_type": "markdown",
   "metadata": {},
   "source": [
    "<font size = \"5\">\n",
    "\n",
    "Try this again with $size = 100, 1000, 10000$"
   ]
  },
  {
   "cell_type": "code",
   "execution_count": 46,
   "metadata": {},
   "outputs": [],
   "source": [
    "# Write the code for your histogram\n",
    "\n",
    "# Compute a histogram\n",
    "# You can edit the number of bins with plt.hist(x = randomvar_a)\n",
    "\n",
    "\n"
   ]
  },
  {
   "attachments": {},
   "cell_type": "markdown",
   "metadata": {},
   "source": [
    "# <span style=\"color:darkblue\"> Additional Resources </span>\n",
    "\n",
    "<font size=\"5\"> \n",
    "\n",
    "Check out additional examples at:\n",
    "\n",
    "- https://allendowney.github.io/ElementsOfDataScience/03_arrays.html\n",
    "\n",
    "\n"
   ]
  },
  {
   "cell_type": "markdown",
   "metadata": {},
   "source": [
    "<font size = \"20\">\n",
    "\n",
    "asdasd\n"
   ]
  },
  {
   "attachments": {},
   "cell_type": "markdown",
   "metadata": {},
   "source": [
    "# <span style=\"color:darkblue\"> (Optional) Matrix Operations </span>\n",
    "\n",
    "<font size=\"5\"> \n"
   ]
  },
  {
   "attachments": {},
   "cell_type": "markdown",
   "metadata": {},
   "source": [
    "<font size = \"5\">\n",
    "Creating a matrix by stacking different rows\n",
    "\n",
    "$ \\text{ }$\n",
    "\n",
    "$ X = \\begin{pmatrix} 1 & 2 & 3 \\\\ \n",
    "                       0 & 4 & 5 \\\\\n",
    "                       0 & 0 & 6\n",
    "                       \\end{pmatrix} $"
   ]
  },
  {
   "cell_type": "code",
   "execution_count": 78,
   "metadata": {},
   "outputs": [
    {
     "name": "stdout",
     "output_type": "stream",
     "text": [
      "[[1 2 3]\n",
      " [0 4 5]\n",
      " [0 0 6]]\n"
     ]
    }
   ],
   "source": [
    "# Matrices are usually denoted by capital letters\n",
    "# The object [[1,2,3],[4,5,6],[7,8,9]] is a list of lists\n",
    "# It's useful to maintain this notation in the code as well\n",
    "\n",
    "X = np.array([[1,2,3],[0,4,5],[0,0,6]])\n",
    "print(X)"
   ]
  },
  {
   "attachments": {},
   "cell_type": "markdown",
   "metadata": {},
   "source": [
    "<font size = \"5\">\n",
    "Creating a matrix by stacking different columns\n",
    "\n",
    "$ \\text{ } $\n",
    "\n",
    "$ Y = \\begin{pmatrix} 1 & 2 \\\\ 0 & 1 \\\\ 1 & 0 \\end{pmatrix}$"
   ]
  },
  {
   "cell_type": "code",
   "execution_count": 79,
   "metadata": {},
   "outputs": [
    {
     "name": "stdout",
     "output_type": "stream",
     "text": [
      "[[1 2]\n",
      " [0 1]\n",
      " [1 0]]\n"
     ]
    }
   ],
   "source": [
    "# You can also stack columns\n",
    "Y =  np.column_stack([[1,0,1],[2,1,0]])\n",
    "print(Y)"
   ]
  },
  {
   "attachments": {},
   "cell_type": "markdown",
   "metadata": {},
   "source": [
    "<font size = \"5\">\n",
    "Transpose\n",
    "\n",
    "$ \\text{ }$\n",
    "\n",
    "$ Y' = \\begin{pmatrix}  1 & 0 & 1 \\\\ 2 & 1 & 0  \\end{pmatrix} $"
   ]
  },
  {
   "cell_type": "code",
   "execution_count": 80,
   "metadata": {},
   "outputs": [
    {
     "data": {
      "text/plain": [
       "array([[1, 0, 1],\n",
       "       [2, 1, 0]])"
      ]
     },
     "execution_count": 80,
     "metadata": {},
     "output_type": "execute_result"
    }
   ],
   "source": [
    "# Matrix Transpose\n",
    "np.matrix.transpose(Y)"
   ]
  },
  {
   "attachments": {},
   "cell_type": "markdown",
   "metadata": {},
   "source": [
    "<font size = \"5\">\n",
    "\n",
    "Matrix multiplication\n",
    "\n",
    "$ XY = \\begin{pmatrix} 1 & 2 & 3 \\\\ \n",
    "                       0 & 4 & 5 \\\\\n",
    "                       0 & 0 & 6\n",
    "                       \\end{pmatrix}\n",
    "                       \\begin{pmatrix} 1 & 2 \\\\ 0 & 1 \\\\ 1 & 0 \\end{pmatrix} = \n",
    "        \\begin{pmatrix} 4 & 4 \\\\ 5 & 4 \\\\ 6 & 0 \\end{pmatrix} $"
   ]
  },
  {
   "cell_type": "code",
   "execution_count": 81,
   "metadata": {},
   "outputs": [
    {
     "data": {
      "text/plain": [
       "array([[4, 4],\n",
       "       [5, 4],\n",
       "       [6, 0]])"
      ]
     },
     "execution_count": 81,
     "metadata": {},
     "output_type": "execute_result"
    }
   ],
   "source": [
    "# Matrix Multiplication\n",
    "\n",
    "np.dot(X,Y)\n",
    "\n",
    "np.matmul(X,Y)"
   ]
  },
  {
   "attachments": {},
   "cell_type": "markdown",
   "metadata": {},
   "source": [
    "<font size = \"5\">\n",
    "\n",
    "Matrix inverse\n",
    "\n",
    "$ X^{-1} = \\begin{pmatrix} 1 & 2 & 3 \\\\ \n",
    "                       0 & 4 & 5 \\\\\n",
    "                       0 & 0 & 6\n",
    "                       \\end{pmatrix}^{-1} $"
   ]
  },
  {
   "cell_type": "code",
   "execution_count": 82,
   "metadata": {},
   "outputs": [
    {
     "name": "stdout",
     "output_type": "stream",
     "text": [
      "23.999999999999993\n",
      "[[ 1.         -0.5        -0.08333333]\n",
      " [ 0.          0.25       -0.20833333]\n",
      " [ 0.          0.          0.16666667]]\n"
     ]
    }
   ],
   "source": [
    "# Check the determinant of a matrix (a matrix is invertible if the determinant is not zero)\n",
    "print(np.linalg.det(X))\n",
    "\n",
    "# Matrix inverse\n",
    "# The following command stands for linear algebrar inverse.\n",
    "X_inv = np.linalg.inv(X)\n",
    "\n",
    "# Output the result\n",
    "print(X_inv)\n"
   ]
  },
  {
   "attachments": {},
   "cell_type": "markdown",
   "metadata": {},
   "source": [
    "<font size = \"5\">\n",
    "\n",
    "Try it yourself! Check that this is indeed an inverse:\n",
    "\n",
    "$X X_{inv} = \\begin{pmatrix} 1 & 0 & 0 \\\\ 0 & 1 & 0 \\\\ 0 & 0 & 1 \\end{pmatrix}$"
   ]
  },
  {
   "cell_type": "code",
   "execution_count": 52,
   "metadata": {},
   "outputs": [],
   "source": [
    "# Multiply \"X\" times \"X_inv\" using the command shown above\n",
    "# Note: Sometimes the result is shown in scientific notation.\n",
    "\n",
    "\n",
    "\n"
   ]
  }
 ],
 "metadata": {
  "kernelspec": {
   "display_name": "base",
   "language": "python",
   "name": "python3"
  },
  "language_info": {
   "codemirror_mode": {
    "name": "ipython",
    "version": 3
   },
   "file_extension": ".py",
   "mimetype": "text/x-python",
   "name": "python",
   "nbconvert_exporter": "python",
   "pygments_lexer": "ipython3",
   "version": "3.12.7"
  },
  "orig_nbformat": 4,
  "vscode": {
   "interpreter": {
    "hash": "45fc1f684f6f416f40889115beff3ddf69879b64cf4bfee48cb72a61e9d15d1a"
   }
  }
 },
 "nbformat": 4,
 "nbformat_minor": 2
}
