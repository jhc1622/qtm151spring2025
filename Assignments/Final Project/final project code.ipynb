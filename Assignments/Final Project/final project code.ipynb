{
 "cells": [
  {
   "cell_type": "markdown",
   "id": "ceb89e51",
   "metadata": {},
   "source": [
    "# QTM151 Final Project – Section 1\n",
    "## Predictive Power of Qualifying Position on Final Race Outcomes: Mercedes vs Red Bull\n",
    "**Team Members:** Shourya Soni, Jack Chapon, and Xiyue Yue\n"
   ]
  },
  {
   "cell_type": "markdown",
   "id": "c23927a1",
   "metadata": {},
   "source": [
    "## Introduction\n",
    "\n",
    "Formula 1 is a motorsport with single-seater auto racing, with drivers competing in a series of Grand Prix events around the world. Before each race, drivers participate in a timed qualifying session to determine their starting grid positions; on race day, they compete over a set distance to claim final finishing orders. In this project, we investigate whether a driver’s qualifying position can significantly predict their final race position—and whether this relationship holds consistently for two of the sport’s dominant teams, **Mercedes** and **Red Bull**. Our goal is to shed light on the extent to which early performance (qualifying) translates into race success, and to discuss potential factors that might strengthen or weaken that link.\n"
   ]
  },
  {
   "cell_type": "code",
   "execution_count": 22,
   "id": "23e6ccc0",
   "metadata": {},
   "outputs": [],
   "source": [
    "import pandas as pd\n",
    "import numpy as np\n",
    "import matplotlib.pyplot as plt\n",
    "import statsmodels.formula.api as smf\n",
    "import tabulate as tb\n"
   ]
  },
  {
   "cell_type": "markdown",
   "id": "2fad6893",
   "metadata": {},
   "source": [
    "## Data Overview\n",
    "\n",
    "The data for this project comes from three CSV files:\n",
    "- **Qualifying**: contains one row per driver per Grand Prix qualifying session, with four columns (`raceId`, `driverId`, `constructorId`, `position`).\n",
    "- **Results**: contains one row per driver per Grand Prix race, with four columns (`raceId`, `driverId`, `constructorId`, `positionOrder`).\n",
    "- **Constructors**: provides team details, keyed by `constructorId`, with two columns (`constructorId`, `name`).\n",
    "\n",
    "\n"
   ]
  },
  {
   "cell_type": "markdown",
   "id": "fce5e631",
   "metadata": {},
   "source": [
    "| Dataset      | Rows   | Columns |\n",
    "|--------------|--------|---------|\n",
    "| Qualifying   | 9,575  | 4       |\n",
    "| Results      | 25,840 | 4       |\n",
    "| Constructors | 211    | 2       |\n",
    "\n",
    "*Table 1: Dataset summary showing number of rows and columns after initial cleaning.*\n"
   ]
  },
  {
   "cell_type": "code",
   "execution_count": 3,
   "id": "7195d9f7",
   "metadata": {},
   "outputs": [
    {
     "name": "stdout",
     "output_type": "stream",
     "text": [
      "Qualifying\n",
      "<class 'pandas.core.frame.DataFrame'>\n",
      "RangeIndex: 9575 entries, 0 to 9574\n",
      "Data columns (total 4 columns):\n",
      " #   Column         Non-Null Count  Dtype\n",
      "---  ------         --------------  -----\n",
      " 0   raceId         9575 non-null   int64\n",
      " 1   driverId       9575 non-null   int64\n",
      " 2   constructorId  9575 non-null   int64\n",
      " 3   position       9575 non-null   int64\n",
      "dtypes: int64(4)\n",
      "memory usage: 299.3 KB\n",
      "None\n",
      "Results\n",
      "<class 'pandas.core.frame.DataFrame'>\n",
      "RangeIndex: 25840 entries, 0 to 25839\n",
      "Data columns (total 4 columns):\n",
      " #   Column         Non-Null Count  Dtype\n",
      "---  ------         --------------  -----\n",
      " 0   raceId         25840 non-null  int64\n",
      " 1   driverId       25840 non-null  int64\n",
      " 2   constructorId  25840 non-null  int64\n",
      " 3   positionOrder  25840 non-null  int64\n",
      "dtypes: int64(4)\n",
      "memory usage: 807.6 KB\n",
      "None\n",
      "Constructors\n",
      "<class 'pandas.core.frame.DataFrame'>\n",
      "RangeIndex: 211 entries, 0 to 210\n",
      "Data columns (total 2 columns):\n",
      " #   Column         Non-Null Count  Dtype \n",
      "---  ------         --------------  ----- \n",
      " 0   constructorId  211 non-null    int64 \n",
      " 1   name           211 non-null    object\n",
      "dtypes: int64(1), object(1)\n",
      "memory usage: 3.4+ KB\n",
      "None\n",
      "Qualifying\n",
      "   raceId  driverId  constructorId  position\n",
      "0      18         1              1         1\n",
      "1      18         9              2         2\n",
      "2      18         5              1         3\n",
      "3      18        13              6         4\n",
      "4      18         2              2         5\n",
      "Results\n",
      "   raceId  driverId  constructorId  positionOrder\n",
      "0      18         1              1              1\n",
      "1      18         2              2              2\n",
      "2      18         3              3              3\n",
      "3      18         4              4              4\n",
      "4      18         5              1              5\n",
      "Constructors\n",
      "   constructorId        name\n",
      "0              1     McLaren\n",
      "1              2  BMW Sauber\n",
      "2              3    Williams\n",
      "3              4     Renault\n",
      "4              5  Toro Rosso\n",
      "Qualifying rows and columns: (9575, 4)\n",
      "Results rows and columns: (25840, 4)\n",
      "Constructors rows and columns: (211, 2)\n"
     ]
    }
   ],
   "source": [
    "qualifying = pd.read_csv('data_raw/qualifying.csv', usecols=['raceId', 'driverId', 'constructorId', 'position'])\n",
    "results = pd.read_csv('data_raw/results.csv', usecols=['raceId', 'driverId', 'constructorId', 'positionOrder'])\n",
    "constructors = pd.read_csv('data_raw/constructors.csv', usecols=['constructorId', 'name'])\n",
    "\n",
    "datasets = {\n",
    "    'Qualifying': qualifying,\n",
    "    'Results': results,\n",
    "    'Constructors': constructors\n",
    "}\n",
    "\n",
    "for name, df in datasets.items():\n",
    "    print(name)\n",
    "    print(df.info())\n",
    "\n",
    "for name, df in datasets.items():\n",
    "    print(name)\n",
    "    print(df.head())\n",
    "\n",
    "for name, df in datasets.items():\n",
    "    print(name, \"rows and columns:\", df.shape)\n"
   ]
  },
  {
   "cell_type": "markdown",
   "id": "0a7d7630",
   "metadata": {},
   "source": [
    "## Data Cleaning and Merging\n",
    "\n",
    "After cleaning individual datasets, we merge them on their shared identifiers. This ensures that for each driver in a race, we have both qualifying and final position data linked to the correct constructor.\n",
    "\n",
    "Following merging, we subset the dataset to only retain rows where the constructor is either **Mercedes** or **Red Bull**. This ensures we exclusively analyze the intended teams and prevent analysis of other teams that may skew the data due to their incosistent performances or lack of technical ability.\n",
    "\n",
    "By cleaning and merging upfront, we prepare a consistent dataset suitable for regression analysis and descriptive exploration.\n"
   ]
  },
  {
   "cell_type": "code",
   "execution_count": 5,
   "id": "407dd34b",
   "metadata": {},
   "outputs": [],
   "source": [
    "qualifying = qualifying.rename(columns = {'position': 'qualifying_position'})\n",
    "results = results.rename(columns = {'positionOrder': 'final_position'})\n",
    "constructors = constructors.rename(columns = {'name': 'constructor_name'})\n",
    "\n",
    "qualifying = qualifying.dropna()\n",
    "results = results.dropna()\n",
    "\n",
    "qualifying[\"qualifying_position\"] = qualifying[\"qualifying_position\"].astype(int)\n",
    "results[\"final_position\"] = results[\"final_position\"].astype(int)\n",
    "\n",
    "merged = pd.merge(qualifying, results, on=[\"raceId\", \"driverId\", \"constructorId\"])\n",
    "merged = pd.merge(merged, constructors, on=\"constructorId\")\n",
    "\n",
    "merged = merged.query(\"constructor_name == 'Mercedes' or constructor_name == 'Red Bull'\")\n"
   ]
  },
  {
   "cell_type": "markdown",
   "id": "c5095885",
   "metadata": {},
   "source": [
    "##  Dataset Summary\n",
    "\n",
    "\n",
    "| Dataset      | Records | Fields | Field Names & Types |\n",
    "|--------------|---------|--------|---------------------|\n",
    "| **Qualifying**   | 9,575   | 4      | `raceId` (**int64**), `driverId` (**int64**), `constructorId` (**int64**), `position` (**int64**) |\n",
    "| **Results**      | 25,840  | 4      | `raceId` (**int64**), `driverId` (**int64**), `constructorId` (**int64**), `positionOrder` (**int64**) |\n",
    "| **Constructors** | 211     | 2      | `constructorId` (**int64**), `name` (**object**) |\n",
    "\n",
    "*Table 2: Dataset fields, types, and record counts after initial inspection.*\n",
    "\n"
   ]
  },
  {
   "cell_type": "code",
   "execution_count": 6,
   "id": "2da21026",
   "metadata": {},
   "outputs": [
    {
     "name": "stdout",
     "output_type": "stream",
     "text": [
      "Rows: 1211\n",
      "Columns: 6\n",
      "       qualifying_position  final_position\n",
      "count          1211.000000     1211.000000\n",
      "mean              5.587944        6.820809\n",
      "std               4.633277        6.206776\n",
      "min               1.000000        1.000000\n",
      "25%               2.000000        2.000000\n",
      "50%               4.000000        4.000000\n",
      "75%               8.000000        9.000000\n",
      "max              23.000000       24.000000\n"
     ]
    }
   ],
   "source": [
    "print(\"Rows:\", len(merged))\n",
    "print(\"Columns:\", merged.shape[1])\n",
    "\n",
    "print(merged[['qualifying_position', 'final_position']].describe())\n"
   ]
  },
  {
   "cell_type": "markdown",
   "id": "0a8cbba3",
   "metadata": {},
   "source": [
    "## Merged Dataset Summary\n",
    "\n",
    "After merging and filtering, the final dataset contains **1211 rows** and **6 columns**.\n",
    "\n",
    "Descriptive statistics:\n",
    "- **Qualifying Position**\n",
    "  - Mean: 5.59\n",
    "  - Standard Deviation: 4.63\n",
    "  - Min: 1 (Pole Position)\n",
    "  - Max: 23 (Near last grid slot)\n",
    "\n",
    "- **Final Position**\n",
    "  - Mean: 6.82\n",
    "  - Standard Deviation: 6.21\n",
    "  - Min: 1 (Race Win)\n",
    "  - Max: 24 (Last place or DNF)\n",
    "\n",
    "Observations:\n",
    "- Drivers typically start and finish within the top 7 positions, indicating the strength of these teams.\n",
    "- However, variability exists (6+ grid movements on average), implying that factors such as incidents, pit strategies, and weather can affect race outcomes even for top qualifiers.\n",
    "\n",
    "This motivates using regression models to formally quantify the starting vs. finishing relationship.\n"
   ]
  },
  {
   "cell_type": "markdown",
   "id": "df4dff89",
   "metadata": {},
   "source": [
    "## Subsetting by Constructor\n",
    "\n",
    "## Subsetting by Constructor\n",
    "\n",
    "We divide the merged dataset into two subsets:\n",
    "- **Mercedes dataset**\n",
    "- **Red Bull dataset**\n",
    "\n",
    "This allows us to perform separate analyses for each team, compare their consistency, and estimate whether one team translates qualifying advantage into final results more effectively than the other.\n",
    "\n",
    "By treating teams separately, we account for different strategies, pit crews, and car performances that might influence race outcomes.\n"
   ]
  },
  {
   "cell_type": "code",
   "execution_count": 28,
   "id": "33a34003",
   "metadata": {},
   "outputs": [],
   "source": [
    "mercedes = merged.query(\"constructor_name == 'Mercedes'\")\n",
    "redbull = merged.query(\"constructor_name == 'Red Bull'\")\n"
   ]
  },
  {
   "cell_type": "markdown",
   "id": "12bab1d6",
   "metadata": {},
   "source": [
    "## Descriptive Statistics by Team\n",
    "\n",
    "We compute the mean and standard deviation of qualifying and final positions separately for each constructor.\n"
   ]
  },
  {
   "cell_type": "code",
   "execution_count": 29,
   "id": "ffdf9892",
   "metadata": {},
   "outputs": [
    {
     "name": "stdout",
     "output_type": "stream",
     "text": [
      "Mercedes Qualifying Mean and Std: 4.433268858800774 4.056516380660525\n",
      "Mercedes Final Mean and Std: 5.71953578336557 5.847601490777042\n",
      "Red Bull Qualifying Mean and Std: 6.448126801152738 4.847104216486917\n",
      "Red Bull Final Mean and Std: 7.641210374639769 6.342288199120275\n"
     ]
    }
   ],
   "source": [
    "mean_q_m = mercedes[\"qualifying_position\"].mean()\n",
    "std_q_m = mercedes[\"qualifying_position\"].std()\n",
    "mean_f_m = mercedes[\"final_position\"].mean()\n",
    "std_f_m = mercedes[\"final_position\"].std()\n",
    "\n",
    "mean_q_r = redbull[\"qualifying_position\"].mean()\n",
    "std_q_r = redbull[\"qualifying_position\"].std()\n",
    "mean_f_r = redbull[\"final_position\"].mean()\n",
    "std_f_r = redbull[\"final_position\"].std()\n",
    "\n",
    "print(\"Mercedes Qualifying Mean and Std:\", mean_q_m, std_q_m)\n",
    "print(\"Mercedes Final Mean and Std:\", mean_f_m, std_f_m)\n",
    "print(\"Red Bull Qualifying Mean and Std:\", mean_q_r, std_q_r)\n",
    "print(\"Red Bull Final Mean and Std:\", mean_f_r, std_f_r)\n"
   ]
  },
  {
   "cell_type": "markdown",
   "id": "a2013146",
   "metadata": {},
   "source": [
    "\n",
    "For Mercedes:\n",
    "- Average qualifying position: 4.4\n",
    "- Average final position: 5.7\n",
    "\n",
    "For Red Bull:\n",
    "- Average qualifying position: 6.4\n",
    "- Average final position: 7.6\n",
    "\n",
    "Interpretation:\n",
    "- We expect both teams to have relatively low (better) qualifying and final positions.\n",
    "- The difference between average qualifying and final positions shows how much ground is gained or lost during the race.\n",
    "\n",
    "This summary sets expectations for regression: the closer the final position is to qualifying position, the stronger the predictive relationship. It indicates that Mercedes overall has a lower average qualifying and final position compared to Redbull, highlighting the superior performance of Mercedes throughout Formula 1. \n"
   ]
  },
  {
   "cell_type": "markdown",
   "id": "52941539",
   "metadata": {},
   "source": [
    "## Average Final Position by Qualifying Position (Using a For Loop)\n",
    "\n",
    "We group the data by constructor and qualifying position and calculate the mean final position for each qualifying spot.\n",
    "\n",
    "In order to do this, we created a list called \"f1_table\" where we iterated through every qualifying\n",
    "position and associated it with the average finishing position of both Mercedes and Red Bull based\n",
    "on their qualifying position.  These values are rounded to 2 decimal places.  The list is then converted to a dataframe before it is formatted and printed using **tabulate**.\n",
    "\n",
    "For tabulate, we researched different ways to format tables, and after discovering tabulate, we used the link below to learn how to create our table:\n",
    "http://geeksforgeeks.org/introduction-to-python-tabulate-library/\n"
   ]
  },
  {
   "cell_type": "code",
   "execution_count": 25,
   "id": "03d15033",
   "metadata": {},
   "outputs": [
    {
     "name": "stdout",
     "output_type": "stream",
     "text": [
      "╒═══════════════════════╤══════════════════════════╤══════════════════════════╕\n",
      "│  Qualifying Position  │  Mercedes Average Final  │  Red Bull Average Final  │\n",
      "╞═══════════════════════╪══════════════════════════╪══════════════════════════╡\n",
      "│           1           │           3.12           │           2.86           │\n",
      "├───────────────────────┼──────────────────────────┼──────────────────────────┤\n",
      "│           2           │           3.86           │           5.28           │\n",
      "├───────────────────────┼──────────────────────────┼──────────────────────────┤\n",
      "│           3           │           5.25           │           5.44           │\n",
      "├───────────────────────┼──────────────────────────┼──────────────────────────┤\n",
      "│           4           │           5.18           │           6.6            │\n",
      "├───────────────────────┼──────────────────────────┼──────────────────────────┤\n",
      "│           5           │           6.97           │           8.06           │\n",
      "├───────────────────────┼──────────────────────────┼──────────────────────────┤\n",
      "│           6           │           6.03           │           7.56           │\n",
      "├───────────────────────┼──────────────────────────┼──────────────────────────┤\n",
      "│           7           │           8.35           │           8.69           │\n",
      "├───────────────────────┼──────────────────────────┼──────────────────────────┤\n",
      "│           8           │          12.05           │           8.61           │\n",
      "├───────────────────────┼──────────────────────────┼──────────────────────────┤\n",
      "│           9           │          12.65           │           8.22           │\n",
      "├───────────────────────┼──────────────────────────┼──────────────────────────┤\n",
      "│          10           │           8.33           │          10.17           │\n",
      "├───────────────────────┼──────────────────────────┼──────────────────────────┤\n",
      "│          11           │          10.14           │          11.71           │\n",
      "├───────────────────────┼──────────────────────────┼──────────────────────────┤\n",
      "│          12           │           8.88           │           9.48           │\n",
      "├───────────────────────┼──────────────────────────┼──────────────────────────┤\n",
      "│          13           │          10.25           │          13.33           │\n",
      "├───────────────────────┼──────────────────────────┼──────────────────────────┤\n",
      "│          14           │           9.5            │          13.25           │\n",
      "├───────────────────────┼──────────────────────────┼──────────────────────────┤\n",
      "│          15           │           19.5           │          11.92           │\n",
      "├───────────────────────┼──────────────────────────┼──────────────────────────┤\n",
      "│          16           │           6.5            │          12.31           │\n",
      "├───────────────────────┼──────────────────────────┼──────────────────────────┤\n",
      "│          17           │          15.67           │          14.09           │\n",
      "├───────────────────────┼──────────────────────────┼──────────────────────────┤\n",
      "│          18           │           10.5           │          12.67           │\n",
      "├───────────────────────┼──────────────────────────┼──────────────────────────┤\n",
      "│          20           │            4             │          10.62           │\n",
      "├───────────────────────┼──────────────────────────┼──────────────────────────┤\n",
      "│          21           │            3             │            18            │\n",
      "├───────────────────────┼──────────────────────────┼──────────────────────────┤\n",
      "│          22           │            7             │            14            │\n",
      "╘═══════════════════════╧══════════════════════════╧══════════════════════════╛\n"
     ]
    }
   ],
   "source": [
    "f1_table = []\n",
    "for i in range(1, 23):\n",
    "    mercedes_avg = grouped.query(\"constructor_name == 'Mercedes' and qualifying_position == @i\")[\"final_position\"]\n",
    "    redbull_avg = grouped.query(\"constructor_name == 'Red Bull' and qualifying_position == @i\")[\"final_position\"]\n",
    "    if not mercedes_avg.empty and not redbull_avg.empty:\n",
    "        f1_table.append({\"Qualifying Position\": i,\n",
    "                       \"Mercedes Average Final\": round(mercedes_avg.values[0], 2),\n",
    "                       \"Red Bull Average Final\": round(redbull_avg.values[0], 2)})\n",
    "f1_table_data = pd.DataFrame(tables)\n",
    "\n",
    "print(tb.tabulate(f1_table_data, headers='keys', tablefmt='fancy_grid', colalign=(\"center\", \"center\", \"center\"), showindex=False))\n"
   ]
  },
  {
   "cell_type": "markdown",
   "id": "07e56ae1",
   "metadata": {},
   "source": [
    "Observations:\n",
    "- For the top qualifying spots (P1 – P4), both teams generally finish near the front, reflecting strong race pace.\n",
    "- For lower qualifying spots (P13+), final results vary widely.  For Mercedes, position P18 and before, the finishing position is closer to the middle or back, but for P20 - P22, the finishing position averages are higher.  This is likely due to the fact that Mercedes have been a dominant team for a long time, so when they qualify at the back, it is due to an unforseen circumstance liek engine failure, tire blowup, or large penalty.  Is does not reflect their car performance as they are much faster on race day.  Red Bull does not follow this same pattern.  "
   ]
  },
  {
   "cell_type": "markdown",
   "id": "e359f803",
   "metadata": {},
   "source": [
    "## Regression Analysis\n",
    "\n",
    "We fit Ordinary Least Squares (OLS) models to predict final race results based on qualifying positions separately for Mercedes and Red Bull.\n"
   ]
  },
  {
   "cell_type": "code",
   "execution_count": null,
   "id": "4cf8a5c1",
   "metadata": {},
   "outputs": [
    {
     "name": "stdout",
     "output_type": "stream",
     "text": [
      "Mercedes regression coefficients:\n",
      "Intercept              6.637063\n",
      "qualifying_position    0.158402\n",
      "dtype: float64\n"
     ]
    }
   ],
   "source": [
    "model_m = smf.ols(formula = 'final_position ~ qualifying_position', data = mercedes)\n",
    "results_m = model_m.fit()\n",
    "b_m = results_m.params\n",
    "\n",
    "mercedes = mercedes.copy()\n",
    "\n",
    "mercedes[\"p_hat\"] = b_m.iloc[0] + b_m.iloc[1] * mercedes[\"qualifying_position\"]\n",
    "\n",
    "print(\"Mercedes regression coefficients:\")\n",
    "print(b_m)\n",
    "\n",
    "\n"
   ]
  },
  {
   "cell_type": "code",
   "execution_count": 36,
   "id": "e7218bd9",
   "metadata": {},
   "outputs": [
    {
     "name": "stdout",
     "output_type": "stream",
     "text": [
      "Red Bull regression coefficients:\n",
      "Intercept              4.630096\n",
      "qualifying_position    0.484546\n",
      "dtype: float64\n"
     ]
    }
   ],
   "source": [
    "model_r = smf.ols(formula = 'final_position ~ qualifying_position', data = redbull)\n",
    "results_r = model_r.fit()\n",
    "b_r = results_r.params\n",
    "\n",
    "redbull = redbull.copy()\n",
    "\n",
    "redbull[\"p_hat\"] = b_r.iloc[0] + b_r.iloc[1] * redbull[\"qualifying_position\"]\n",
    "\n",
    "print(\"Red Bull regression coefficients:\")\n",
    "print(b_r)\n",
    "\n"
   ]
  },
  {
   "cell_type": "markdown",
   "id": "a75a0a2c",
   "metadata": {},
   "source": [
    "## Regression Line Plot\n",
    "\n",
    "We visualize the estimated regression lines predicting final race position based on qualifying position for each constructor.\n"
   ]
  },
  {
   "cell_type": "code",
   "execution_count": 37,
   "id": "7e98256f",
   "metadata": {},
   "outputs": [
    {
     "data": {
      "image/png": "[encoded data removed]",
      "text/plain": [
       "<Figure size 640x480 with 1 Axes>"
      ]
     },
     "metadata": {},
     "output_type": "display_data"
    }
   ],
   "source": [
    "plt.plot(mercedes[\"qualifying_position\"], mercedes[\"p_hat\"], label=\"Mercedes\", color=\"blue\")\n",
    "plt.plot(redbull[\"qualifying_position\"], redbull[\"p_hat\"], label=\"Red Bull\", color=\"red\")\n",
    "plt.xlabel(\"Qualifying Position\")\n",
    "plt.ylabel(\"Predicted Final Position\")\n",
    "plt.title(\"Regression Comparison: Mercedes vs Red Bull\")\n",
    "plt.legend()\n",
    "plt.grid(True)\n",
    "plt.show()\n"
   ]
  },
  {
   "cell_type": "markdown",
   "id": "322f3866",
   "metadata": {},
   "source": [
    "## Regression Line Plot\n",
    "\n",
    "In the plot titled \"Regression Comparison: Mercedes vs Red Bull\", we visualize the predicted final race positions as a function of qualifying positions for both teams based on linear regression models:\n",
    "\n",
    "- **Mercedes** (blue line) has a flatter slope, indicating that changes in qualifying position have a **smaller** impact on the predicted final race position compared to Red Bull.\n",
    "- **Red Bull** (red line) exhibits a noticeably steeper slope, meaning that when Red Bull drivers qualify further back, their final race results worsen more significantly than Mercedes drivers.\n",
    "- The intercept for Red Bull is lower, implying that when starting near the front (e.g., P1–P3), Red Bull has very strong race results — but their performance declines more rapidly for poor qualifying spots compared to Mercedes.\n",
    "\n",
    "Interpretation:\n",
    "- **Mercedes** shows stronger race day resilience: even if Mercedes drivers start further down the grid, their final position does not deteriorate as much as Red Bull drivers.\n",
    "- **Red Bull** depends more heavily on strong qualifying: poor starting positions are much more costly for them on race day.\n",
    "- This aligns with historical race observations where Mercedes often recovers better through strategy, pit stops, or driver consistency.\n",
    "\n",
    "Technical Note:\n",
    "- This simple linear model captures a meaningful performance trend.\n",
    "- However, real race outcomes are influenced by complex dynamics not modeled here (e.g., safety cars, mechanical reliability, overtaking ease).\n",
    "\n",
    "Overall, the regression results highlight a small but consistent **competitive advantage** for Mercedes over Red Bull in maximizing race results relative to qualifying position.\n"
   ]
  },
  {
   "cell_type": "markdown",
   "id": "bf79dc77",
   "metadata": {},
   "source": [
    "## Grouped Average Final Position Plot\n",
    "\n",
    "We visualize average final positions by qualifying spot for each constructor using markers.\n"
   ]
  },
  {
   "cell_type": "code",
   "execution_count": 41,
   "id": "1e8da68b",
   "metadata": {},
   "outputs": [
    {
     "data": {
      "image/png": "[encoded data removed]",
      "text/plain": [
       "<Figure size 640x480 with 1 Axes>"
      ]
     },
     "metadata": {},
     "output_type": "display_data"
    }
   ],
   "source": [
    "grouped = merged.groupby([\"constructor_name\", \"qualifying_position\"])[\"final_position\"].mean().reset_index()\n",
    "\n",
    "mercedes = grouped.query(\"constructor_name == 'Mercedes'\")\n",
    "redbull = grouped.query(\"constructor_name == 'Red Bull'\")\n",
    "\n",
    "plt.plot(mercedes['qualifying_position'], mercedes['final_position'], label='Mercedes', marker = 'o')\n",
    "plt.plot(redbull['qualifying_position'], redbull['final_position'], label='Red Bull', marker = '^')\n",
    "plt.title('Average Final Position by Qualifying Position')\n",
    "plt.xlabel('Qualifying Position')\n",
    "plt.ylabel('Average Final Position')\n",
    "plt.legend()\n",
    "plt.grid(True)\n",
    "plt.show()\n"
   ]
  },
  {
   "cell_type": "markdown",
   "id": "ece16382",
   "metadata": {},
   "source": [
    "\n",
    "The second plot, \"Average Final Position by Qualifying Position\", shows the average final finishing position grouped by each qualifying position (1 through 22):\n",
    "\n",
    "- **Mercedes** (blue with circles) shows a slightly more **stable** and **lower average final position** for most qualifying spots compared to Red Bull (orange with squares).\n",
    "- Mercedes' curve fluctuates less, indicating that Mercedes drivers tend to convert their qualifying advantage into better and more consistent race results.\n",
    "- Red Bull’s average final position rises more sharply for poor qualifying spots, suggesting that Red Bull struggles more when not starting near the front.\n",
    "\n",
    "Key Observations:\n",
    "- From positions 1–5, both teams achieve excellent final results, often winning or finishing in podium positions.\n",
    "- For qualifying positions greater than 10, Mercedes drivers generally outperform Red Bull drivers in average finishing position.\n",
    "- Mercedes occasionally achieves strong race recoveries even from mid-grid starting positions, seen by sharp dips in final position at places like P15 and P19.\n",
    "\n",
    "The grouped averages give non-parametric validation of the regression findings — the relationship between qualifying and final position is real and meaningful, but Mercedes shows stronger race-day resilience across the grid.\n"
   ]
  },
  {
   "cell_type": "markdown",
   "id": "c33098d4",
   "metadata": {},
   "source": [
    "## Final Discussion\n",
    "\n",
    "Overall, the analysis confirms a strong, positive relationship between qualifying and final race positions for both Mercedes and Red Bull. However, several important differences emerge:\n",
    "\n",
    "- **Predictive Accuracy**:  \n",
    "  - Both teams show high predictive power of qualifying, but Mercedes demonstrates slightly lower residual errors (MSE), meaning race results are more closely tied to their starting position.\n",
    "\n",
    "- **Race Day Consistency**:  \n",
    "  - Mercedes drivers, even when qualifying mid-grid, tend to finish stronger than Red Bull drivers.\n",
    "  - Red Bull’s performance is more dependent on starting at the front; when qualifying poorly, their final positions drop more steeply.\n",
    "\n",
    "- **Visual Confirmation**:  \n",
    "  - The regression line for Mercedes lies consistently lower than Red Bull’s across all qualifying positions, confirming that, holding starting place constant, Mercedes typically finishes higher.\n",
    "  - Grouped averages further reveal that Mercedes maintains lower (better) final positions across a wider range of starting spots.\n",
    "\n",
    "- **Racecraft and Strategy Factors**:  \n",
    "  - The stronger resilience shown by Mercedes may reflect better pit stop strategies, superior car reliability, or more effective in-race decision-making compared to Red Bull.\n",
    "\n",
    "Limitations:\n",
    "- Only qualifying and final positions were modeled. Other race factors (e.g., penalties, weather conditions, crashes) could refine the model further.\n",
    "- Sample includes multiple seasons, possibly mixing eras of different team dominance.\n",
    "\n",
    "Future Work:\n",
    "- Expand regression to include race-specific factors (weather, track type).\n",
    "- Build a multivariate model to better isolate the pure effect of qualifying controlling for other variables.\n",
    "\n",
    "Conclusion:\n",
    "- For elite teams, starting at the front strongly improves outcomes — but Mercedes appears more capable of maximizing final results even when starting from challenging grid positions.\n",
    "\n"
   ]
  }
 ],
 "metadata": {
  "kernelspec": {
   "display_name": "base",
   "language": "python",
   "name": "python3"
  },
  "language_info": {
   "codemirror_mode": {
    "name": "ipython",
    "version": 3
   },
   "file_extension": ".py",
   "mimetype": "text/x-python",
   "name": "python",
   "nbconvert_exporter": "python",
   "pygments_lexer": "ipython3",
   "version": "3.12.7"
  }
 },
 "nbformat": 4,
 "nbformat_minor": 5
}
