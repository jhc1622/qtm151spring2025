{
 "cells": [
  {
   "attachments": {},
   "cell_type": "markdown",
   "metadata": {},
   "source": [
    "# <span style=\"color:darkblue\"> QTM 151 - Quiz 1 </span>"
   ]
  },
  {
   "attachments": {},
   "cell_type": "markdown",
   "metadata": {},
   "source": [
    "## Try to submit as an HTML file"
   ]
  },
  {
   "attachments": {},
   "cell_type": "markdown",
   "metadata": {},
   "source": [
    "<font size=\"5\"> \n",
    "\n",
    "Print your name below"
   ]
  },
  {
   "cell_type": "code",
   "execution_count": 93,
   "metadata": {},
   "outputs": [
    {
     "name": "stdout",
     "output_type": "stream",
     "text": [
      "Jack Chapon\n"
     ]
    }
   ],
   "source": [
    "# Write your answer here\n",
    "print(\"Jack Chapon\")\n"
   ]
  },
  {
   "attachments": {},
   "cell_type": "markdown",
   "metadata": {},
   "source": [
    "<font size = \"5\" >\n",
    "This quiz is open book \n",
    "\n",
    "- You can use the lecture notes\n",
    "- You will get partial credit for attempting the questions\n",
    "- To get full credit, the code should work as intended\n",
    "- You should <span style=\"color:red\"> NOT </span> communicate with other students\n",
    "\n",
    "Print the following message: <br>\n",
    "\n",
    "\"I will abide by Emory's code of conduct\"\n"
   ]
  },
  {
   "cell_type": "code",
   "execution_count": 94,
   "metadata": {},
   "outputs": [
    {
     "name": "stdout",
     "output_type": "stream",
     "text": [
      "I will abide by Emory's code of conduct\n"
     ]
    }
   ],
   "source": [
    "# Write your answer here:\n",
    "print(\"I will abide by Emory's code of conduct\")\n"
   ]
  },
  {
   "attachments": {},
   "cell_type": "markdown",
   "metadata": {},
   "source": [
    "<font size = \"5\">\n",
    "\n",
    "Import the libraries \"numpy\", \"matplotlib.pytplot\", and \"pandas\""
   ]
  },
  {
   "cell_type": "code",
   "execution_count": 95,
   "metadata": {},
   "outputs": [],
   "source": [
    "# Write your answer here\n",
    "import numpy as np\n",
    "import matplotlib.pyplot as plt\n",
    "import pandas as pd\n"
   ]
  },
  {
   "cell_type": "markdown",
   "metadata": {},
   "source": [
    "<font size = \"5\">\n",
    "\n",
    "(a) IF/ELSE statements\n",
    "\n",
    "<font size = \"3\">\n",
    "\n",
    "- Create two lists: \n",
    "\n",
    "``` list_p = [\"Introduction\",\"to\",\"Python\"] ``` <br>\n",
    "``` list_r = [\"Intro\",\"to\",\"R\"] ```\n",
    "\n",
    "- Create a new variable ``` keyword = \"Introduction\" ```\n",
    "- Create an if/else that tests whether ``` keyword ``` is part of either <br>\n",
    "list.  Print your a message (you choose which message) if the test is true.\n",
    "\n",
    "HINT: Use the \"in\" command to test whether an element is part <br>\n",
    "of a list (see Lecture 4) \n",
    "\n",
    "\n"
   ]
  },
  {
   "cell_type": "code",
   "execution_count": 103,
   "metadata": {},
   "outputs": [
    {
     "name": "stdout",
     "output_type": "stream",
     "text": [
      "Word found! Congratulations!\n"
     ]
    }
   ],
   "source": [
    "# Write your answer here:\n",
    "list_p = [\"Introduction\", \"to\", \"Python\"]\n",
    "list_r = [\"Intro\", \"to\", \"R\"]\n",
    "keyword = \"Introduction\"\n",
    "\n",
    "if keyword in list_p:\n",
    "    print(\"Word found! Congratulations!\")\n",
    "else:\n",
    "    print(\"Word not found (try again)\")\n"
   ]
  },
  {
   "attachments": {},
   "cell_type": "markdown",
   "metadata": {},
   "source": [
    "<font size = \"5\">\n",
    "\n",
    "(b) Transform a list of values and plot it\n",
    "\n",
    "<font size = \"3\">\n",
    "\n",
    "- Create an array with the following values\n",
    "\n",
    "``` coord_x = [1,4, 0, -1, 20, 40] ```\n",
    "\n",
    "``` coord_y = [2,2, 0, 10, 0, 1] ```\n",
    "\n",
    "- Create a new vector ```hypotenuse``` with the following formula\n",
    "\n",
    "$\\qquad hypotenuse = x^2 + y^2$\n",
    "\n",
    "- Produce a  histogram of the variable hypotenuse\n",
    "- Label the axes and the title\n",
    "- Change the color to \"orange\", \"green\" or \"purple\" (you choose)\n",
    "\n",
    "Hint: You can use numpy functions"
   ]
  },
  {
   "cell_type": "code",
   "execution_count": 102,
   "metadata": {},
   "outputs": [
    {
     "data": {
      "text/plain": [
       "Text(0.5, 0, 'Values of Histogram')"
      ]
     },
     "execution_count": 102,
     "metadata": {},
     "output_type": "execute_result"
    },
    {
     "data": {
      "image/png": "[encoded data removed]",
      "text/plain": [
       "<Figure size 640x480 with 1 Axes>"
      ]
     },
     "metadata": {},
     "output_type": "display_data"
    }
   ],
   "source": [
    "# Write your answer here:\n",
    "coord_x = np.array([1,4,0,-1,20,40])\n",
    "coord_y = np.array([2,2,0,10,0,1])\n",
    "hypotenuse = coord_x**2 + coord_y**2\n",
    "\n",
    "plt.hist(x = hypotenuse, color = \"purple\")\n",
    "plt.title(\"Hypotenuse Historgram\")\n",
    "plt.ylabel(\"Frequency\")\n",
    "plt.xlabel(\"Values of Histogram\")\n",
    "\n"
   ]
  },
  {
   "attachments": {},
   "cell_type": "markdown",
   "metadata": {},
   "source": [
    "<font size = \"5\">\n",
    "\n",
    "(c) Plot random variables ...\n",
    "\n",
    "<font size = \"3\">\n",
    "\n",
    "- Let $n = 500$\n",
    "- Generate \"vec_x\" from a normal (loc = 0,scale = 1,size = n)\n",
    "- Generate \"vex_z\" from a normal (loc = 5,scale = 1,size = n)\n",
    "- Plot two histograms\n",
    "    - Label the axes and title\n",
    "    - Each graph should have a different title\n",
    " \n",
    "To get full points, plot the scatter plots on a single row using the <br>\n",
    "subplots syntax (see Lecture 6)"
   ]
  },
  {
   "cell_type": "code",
   "execution_count": 98,
   "metadata": {},
   "outputs": [
    {
     "data": {
      "text/plain": [
       "Text(291.2335858585858, 0.5, 'Frequency')"
      ]
     },
     "execution_count": 98,
     "metadata": {},
     "output_type": "execute_result"
    },
    {
     "data": {
      "image/png": "[encoded data removed]",
      "text/plain": [
       "<Figure size 600x300 with 2 Axes>"
      ]
     },
     "metadata": {},
     "output_type": "display_data"
    }
   ],
   "source": [
    "# Write your answer here:\n",
    "n = 500\n",
    "vec_x = np.random.normal(loc = 0, scale = 1, size = n)\n",
    "vec_z = np.random.normal(loc = 5, scale = 1, size = n)\n",
    "\n",
    "fig, list_vec = plt.subplots(1,2,figsize=(6,3))\n",
    "plt.tight_layout()\n",
    "\n",
    "list_vec[0].hist(x = vec_x)\n",
    "list_vec[0].set_title(\"Vector x\")\n",
    "list_vec[0].set_xlabel(\"Value\")\n",
    "list_vec[0].set_ylabel(\"Frequency\")\n",
    "\n",
    "list_vec[1].hist(x = vec_z)\n",
    "list_vec[1].set_title(\"Vector z\")\n",
    "list_vec[1].set_xlabel(\"Value\")\n",
    "list_vec[1].set_ylabel(\"Frequency\")\n",
    "\n"
   ]
  },
  {
   "cell_type": "markdown",
   "metadata": {},
   "source": [
    "<font size = \"5\">\n",
    "\n",
    "(d) Combine information across datasets\n",
    "\n",
    "<font size = \"3\">\n",
    "\n",
    "- Read the dataset \"/data_quiz/germany_co2_emissions.csv\" and store it as \"data_germany\"\n",
    "- View the dataset, and see what variables it contains\n",
    "- Plot a figure on CO2 emissions with the following characteristics\n",
    "    - The yearly variable on the x-axis.\n",
    "    - Plots of Germany's CO2 emissions on the y-axis.\n",
    "    - Label the axes\n"
   ]
  },
  {
   "cell_type": "code",
   "execution_count": 99,
   "metadata": {},
   "outputs": [
    {
     "data": {
      "image/png": "[encoded data removed]",
      "text/plain": [
       "<Figure size 640x480 with 1 Axes>"
      ]
     },
     "metadata": {},
     "output_type": "display_data"
    }
   ],
   "source": [
    "# Write your answer here:\n",
    "data_germany = pd.read_csv('data_quiz/germany_co2_emissions.csv')\n",
    "data_germany\n",
    "plt.scatter(x= data_germany[\"year\"], y= data_germany[\"total_emissions\"])\n",
    "plt.title(\"Germany CO2 Emissions from 1990 to 2020\")\n",
    "plt.xlabel(\"Year\")\n",
    "plt.ylabel(\"Emissions\")\n",
    "plt.show()\n",
    "\n"
   ]
  },
  {
   "attachments": {},
   "cell_type": "markdown",
   "metadata": {},
   "source": [
    "<font size = \"5\">\n",
    "\n",
    "(e) Loop through dfferent variables and plot\n",
    "\n",
    "\n",
    "<font size = \"3\">\n",
    "\n",
    "- Read the dataset \"data_quiz/wdi_ageprop_2020.csv\"\n",
    "- Create a list of variable names with the following elements:\n",
    "\n",
    "``` list_varnames = [\"percent_ages0to14\",\"percent_ages15to64\"]  ```\n",
    "\n",
    "- Run a for loop that computes the mean for each variable and print it on screen.\n"
   ]
  },
  {
   "cell_type": "code",
   "execution_count": 100,
   "metadata": {},
   "outputs": [
    {
     "name": "stdout",
     "output_type": "stream",
     "text": [
      "26.90657125728302\n",
      "63.68465159973585\n"
     ]
    }
   ],
   "source": [
    "# Write your answer here:\n",
    "data = pd.read_csv('data_quiz/wdi_ageprop_2020.csv')\n",
    "list_varnames = [\"percent_ages0to14\", \"percent_ages15to64\"]\n",
    "for list in list_varnames:\n",
    "    avg = np.mean(data[list])\n",
    "    print(avg)\n"
   ]
  },
  {
   "cell_type": "markdown",
   "metadata": {},
   "source": [
    "<font size = \"5\">\n",
    "\n",
    "(f) Run loop through different datasets and compute statistics\n",
    "\n",
    "<font size = \"3\">\n",
    "\n",
    "- Create a list with the \".csv\" dataset names of two countries. For example, <br>\n",
    "``` [\"data_quiz/name1.csv\",\"data_quiz/name2.csv\"] ```\n",
    "\n",
    "- Create an empty list called ``` list_emissions ```\n",
    "\n",
    "- Run a for-loop over the list of dataset names. Inside the loop:\n",
    "    - Read the corresponding \".csv\" dataset.\n",
    "    - Compute the mean of \"total_emissions\" for each respective country, <br>\n",
    "    and store it as an element of ```list_emissions```\n",
    "\n",
    "- Print ```list_emissions```\n",
    "\n",
    "HINT: Use ```.append()``` (See Lecture 5)\n"
   ]
  },
  {
   "cell_type": "code",
   "execution_count": 101,
   "metadata": {},
   "outputs": [
    {
     "name": "stdout",
     "output_type": "stream",
     "text": [
      "[4733944.143726562, 220982.55289541016]\n",
      "4733944.143726562\n",
      "220982.55289541016\n"
     ]
    }
   ],
   "source": [
    "# Write your answer here:\n",
    "data1 = [\"data_quiz/united_states_co2_emissions.csv\", \"data_quiz/saudi_arabia_co2_emissions.csv\"]\n",
    "\n",
    "list_emissions = []\n",
    "\n",
    "for i in data1:\n",
    "    country = pd.read_csv(i)\n",
    "    total = np.mean(country[\"total_emissions\"])\n",
    "    list_emissions.append(total)\n",
    "print(list_emissions)\n",
    "\n",
    "#testing below\n",
    "usa = pd.read_csv('data_quiz/united_states_co2_emissions.csv')\n",
    "saudi = pd.read_csv('data_quiz/saudi_arabia_co2_emissions.csv')\n",
    "\n",
    "print(np.mean(usa[\"total_emissions\"]))\n",
    "print(np.mean(saudi[\"total_emissions\"]))"
   ]
  }
 ],
 "metadata": {
  "kernelspec": {
   "display_name": "base",
   "language": "python",
   "name": "python3"
  },
  "language_info": {
   "codemirror_mode": {
    "name": "ipython",
    "version": 3
   },
   "file_extension": ".py",
   "mimetype": "text/x-python",
   "name": "python",
   "nbconvert_exporter": "python",
   "pygments_lexer": "ipython3",
   "version": "3.12.7"
  },
  "orig_nbformat": 4
 },
 "nbformat": 4,
 "nbformat_minor": 2
}
