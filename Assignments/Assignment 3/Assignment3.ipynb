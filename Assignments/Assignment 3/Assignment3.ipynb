{
 "cells": [
  {
   "attachments": {},
   "cell_type": "markdown",
   "metadata": {},
   "source": [
    "# Assignment 3"
   ]
  },
  {
   "attachments": {},
   "cell_type": "markdown",
   "metadata": {},
   "source": [
    "## Submit as an HTML file"
   ]
  },
  {
   "attachments": {},
   "cell_type": "markdown",
   "metadata": {},
   "source": [
    "<font size = \"5\">\n",
    "Print your Emory ID below"
   ]
  },
  {
   "cell_type": "code",
   "execution_count": 53,
   "metadata": {},
   "outputs": [
    {
     "name": "stdout",
     "output_type": "stream",
     "text": [
      "2637546\n"
     ]
    }
   ],
   "source": [
    "print(\"2637546\")"
   ]
  },
  {
   "attachments": {},
   "cell_type": "markdown",
   "metadata": {},
   "source": [
    "<font size = \"5\">\n",
    "\n",
    "Import the numpy and matplotlib packages"
   ]
  },
  {
   "cell_type": "code",
   "execution_count": 54,
   "metadata": {},
   "outputs": [],
   "source": [
    "import numpy as np\n",
    "import matplotlib.pyplot as plt"
   ]
  },
  {
   "attachments": {},
   "cell_type": "markdown",
   "metadata": {},
   "source": [
    "<font size = \"5\">\n",
    "\n",
    "(a) Compute a formula:\n",
    "\n",
    "<font size = \"3\">\n",
    "\n",
    "The formula for the volume of a cone is:\n",
    "\n",
    "<font size = \"4\">\n",
    "\n",
    "$V = \\frac{1}{3} \\pi r^2 h$\n",
    "\n",
    "<font size = \"3\">\n",
    "\n",
    "Where:\n",
    "\n",
    "- $V$ is the volume of the cone\n",
    "- $r$ is the radius of the base\n",
    "- $h$ is the height of the cone\n",
    "\n",
    "Calculate $V$ when:\n",
    "\n",
    "- $r = 5$\n",
    "- $h = 10$\n",
    "\n",
    "\n",
    "To get full points:\n",
    "- First define each of these variables\n",
    "- Write the formula above\n",
    "- Print out the result"
   ]
  },
  {
   "cell_type": "code",
   "execution_count": 55,
   "metadata": {},
   "outputs": [
    {
     "name": "stdout",
     "output_type": "stream",
     "text": [
      "261.79938779914943\n"
     ]
    }
   ],
   "source": [
    "r = 5\n",
    "h = 10\n",
    "\n",
    "V = (1/3)*np.pi*(r**2)*h\n",
    "print(V)"
   ]
  },
  {
   "attachments": {},
   "cell_type": "markdown",
   "metadata": {},
   "source": [
    "<font size = \"5\">\n",
    "\n",
    "(b) Composite operations on arrays\n",
    "\n",
    "<font size = \"3\">\n",
    "\n",
    "- Define r = 0.1\n",
    "- Define x = 1\n",
    "- Define two arrays $A$ and $T$ using \"np.array()\", assigning the following values\n",
    "$ a = \\begin{pmatrix} a_1 \\\\ a_2 \\\\ a_3 \\end{pmatrix} = \\begin{pmatrix} 28 \\\\ 32 \\\\ 11 \\end{pmatrix}, \\qquad t = \\begin{pmatrix} t_1 \\\\ t_2 \\\\ t_3 \\end{pmatrix} = \\begin{pmatrix} 4 \\\\ 5 \\\\ 6 \\end{pmatrix} $\n",
    "\n",
    "- Use element-by-element vector operations to compute a new array $M$ of length 3:\n",
    "$ M = \\begin{pmatrix} a_1 \\cdot (1+r)^{t_1} + cos(x) \\\\ a_2 \\cdot (1+r)^{t_2} + cos(x) \\\\ a_3 \\cdot (1+r)^{t_3} + cos(x) \\end{pmatrix} $\n",
    "\n",
    "- Compute the sum of the values of $M$ using \"M.sum()\"\n",
    "Note: I am using subscripts to denote the individual elements of $a$ and $t$.\n",
    "\n",
    "- In the code just enter the values of $a$ and $t$.\n",
    "- To get full points you must do all of the above tasks\n"
   ]
  },
  {
   "cell_type": "code",
   "execution_count": 57,
   "metadata": {},
   "outputs": [
    {
     "name": "stdout",
     "output_type": "stream",
     "text": [
      "71\n",
      "[41.53510231 52.07662231 20.02747331]\n",
      "113.63919791760446\n"
     ]
    }
   ],
   "source": [
    "r = 0.1\n",
    "x = 1\n",
    "\n",
    "a = np.array([28,32,11])\n",
    "print(a.sum())\n",
    "t = np.array([4,5,6])\n",
    "\n",
    "M = np.array([a[0] * (1+r)**t[0] + np.cos(x), a[1] * (1+r)**t[1] + np.cos(x), \n",
    "              a[2] * (1+r)**t[2] + np.cos(x)])\n",
    "print(M)\n",
    "print(M.sum())"
   ]
  },
  {
   "attachments": {},
   "cell_type": "markdown",
   "metadata": {},
   "source": [
    "<font size = \"5\">\n",
    "\n",
    "(c) Plot a normal random variable\n",
    "<font size = \"3\">\n",
    "\n",
    "To get full points:\n",
    "\n",
    "- Set a seed using \"np.random.seed()\"\n",
    "- Create the random variable with the following parameters\n",
    "- mean = 233, standard deviation = 99, and size = 1314\n",
    "\n",
    "- Create a histogram\n",
    "- Label the axes"
   ]
  },
  {
   "cell_type": "code",
   "execution_count": 64,
   "metadata": {},
   "outputs": [
    {
     "data": {
      "text/plain": [
       "Text(0, 0.5, 'Count')"
      ]
     },
     "execution_count": 64,
     "metadata": {},
     "output_type": "execute_result"
    },
    {
     "data": {
      "image/png": "[encoded data removed]",
      "text/plain": [
       "<Figure size 640x480 with 1 Axes>"
      ]
     },
     "metadata": {},
     "output_type": "display_data"
    }
   ],
   "source": [
    "np.random.seed()\n",
    "random_x = np.random.normal(loc = 233, scale = 99, size = 1314)\n",
    "\n",
    "plt.hist(x = random_x)\n",
    "plt.xlabel(\"Numeric Value\")\n",
    "plt.ylabel(\"Count\")"
   ]
  },
  {
   "attachments": {},
   "cell_type": "markdown",
   "metadata": {},
   "source": [
    "<font size = \"5\">\n",
    "\n",
    "(d) Checking whether word is part of list\n",
    "\n",
    "<font size = \"3\">\n",
    "\n",
    "- Define a variable \"QSS\" with the value \"Statistics\"\n",
    "- Define a list of fruits with the values list_QSS = [\"Statistics\", \"CS\", \"Dara Science\", \"Math\"]\n",
    "- Write an expression to test whether \"QSS\" is contained in \"list_QSS\"\n",
    "\n",
    "Hint: Use the \"in\" command. The final output should be True/False.\n",
    "\n",
    "To get full points run all of the above commands"
   ]
  },
  {
   "cell_type": "code",
   "execution_count": 65,
   "metadata": {},
   "outputs": [
    {
     "data": {
      "text/plain": [
       "True"
      ]
     },
     "execution_count": 65,
     "metadata": {},
     "output_type": "execute_result"
    }
   ],
   "source": [
    "QSS = \"Statistics\"\n",
    "list_QSS = [\"Statistics\", \"CS\", \"Data Science\", \"Math\"]\n",
    "QSS in list_QSS\n"
   ]
  },
  {
   "cell_type": "markdown",
   "metadata": {},
   "source": [
    "<font size = \"5\">\n",
    "\n",
    "(e) Classifying a variable\n",
    "\n",
    "<font size = \"3\">\n",
    "\n",
    "- Define a new variable \"film_score\" and assign it \"70\"\n",
    "- Write an if/else statement that does the following\n",
    "    - print(\"Box-office Success\") if the score is strictly above 80.\n",
    "    - print(\"Intermediate Range\") if the score is weakly less than 80 and strictly above 20.\n",
    "    - print(\"Box-office Failure\") if the score does not fit in the above categories.\n",
    "\n",
    "\n",
    "To get full points you must do all of the above instructions"
   ]
  },
  {
   "cell_type": "code",
   "execution_count": 72,
   "metadata": {},
   "outputs": [
    {
     "name": "stdout",
     "output_type": "stream",
     "text": [
      "Intermediate Range\n"
     ]
    }
   ],
   "source": [
    "film_score = 70\n",
    "if film_score > 80:\n",
    "    print(\"Box-office Success\")\n",
    "elif 20 < film_score <= 80:\n",
    "    print(\"Intermediate Range\")\n",
    "else:\n",
    "    print(\"Box-office Failure\")\n"
   ]
  }
 ],
 "metadata": {
  "kernelspec": {
   "display_name": "base",
   "language": "python",
   "name": "python3"
  },
  "language_info": {
   "codemirror_mode": {
    "name": "ipython",
    "version": 3
   },
   "file_extension": ".py",
   "mimetype": "text/x-python",
   "name": "python",
   "nbconvert_exporter": "python",
   "pygments_lexer": "ipython3",
   "version": "3.12.7"
  },
  "orig_nbformat": 4
 },
 "nbformat": 4,
 "nbformat_minor": 2
}
